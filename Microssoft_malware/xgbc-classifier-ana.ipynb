{
 "cells": [
  {
   "cell_type": "code",
   "execution_count": 1,
   "id": "223e3da3",
   "metadata": {
    "_cell_guid": "b1076dfc-b9ad-4769-8c92-a6c4dae69d19",
    "_uuid": "8f2839f25d086af736a60e9eeb907d3b93b6e0e5",
    "execution": {
     "iopub.execute_input": "2022-05-16T19:06:57.519461Z",
     "iopub.status.busy": "2022-05-16T19:06:57.518778Z",
     "iopub.status.idle": "2022-05-16T19:06:57.535164Z",
     "shell.execute_reply": "2022-05-16T19:06:57.534149Z"
    },
    "papermill": {
     "duration": 0.099734,
     "end_time": "2022-05-16T19:06:57.537440",
     "exception": false,
     "start_time": "2022-05-16T19:06:57.437706",
     "status": "completed"
    },
    "tags": []
   },
   "outputs": [
    {
     "name": "stdout",
     "output_type": "stream",
     "text": [
      "/kaggle/input/microsoft-malware-prediction/sample_submission.csv\n",
      "/kaggle/input/microsoft-malware-prediction/train.csv\n",
      "/kaggle/input/microsoft-malware-prediction/test.csv\n"
     ]
    }
   ],
   "source": [
    "import os\n",
    "for dirname, _, filenames in os.walk('/kaggle/input'):\n",
    "    for filename in filenames:\n",
    "        print(os.path.join(dirname, filename))"
   ]
  },
  {
   "cell_type": "code",
   "execution_count": 2,
   "id": "37f205f1",
   "metadata": {
    "execution": {
     "iopub.execute_input": "2022-05-16T19:06:57.681535Z",
     "iopub.status.busy": "2022-05-16T19:06:57.680927Z",
     "iopub.status.idle": "2022-05-16T19:06:59.282133Z",
     "shell.execute_reply": "2022-05-16T19:06:59.281179Z"
    },
    "papermill": {
     "duration": 1.676462,
     "end_time": "2022-05-16T19:06:59.284706",
     "exception": false,
     "start_time": "2022-05-16T19:06:57.608244",
     "status": "completed"
    },
    "tags": []
   },
   "outputs": [
    {
     "name": "stdout",
     "output_type": "stream",
     "text": [
      "['microsoft-malware-prediction']\n"
     ]
    }
   ],
   "source": [
    "#!pip install pyspark\n",
    "\n",
    "#import pyspark.pandas as ps\n",
    "\n",
    "#from sklearn.datasets import load_boston\n",
    "import numpy as np\n",
    "import pandas as pd\n",
    "from sklearn.preprocessing import OrdinalEncoder\n",
    "import seaborn as sns\n",
    "import matplotlib.pyplot as plt\n",
    "from scipy import stats\n",
    "import gc\n",
    "import time\n",
    "gc.enable()\n",
    "print(os.listdir(\"../input\"))\n",
    "from sklearn.impute import SimpleImputer\n",
    "\n",
    "from sklearn.ensemble import GradientBoostingClassifier\n",
    "from xgboost import XGBClassifier \n",
    "\n",
    "from sklearn.metrics import accuracy_score\n",
    "from sklearn.metrics import precision_score\n",
    "from sklearn.metrics import recall_score\n",
    "from sklearn.metrics import f1_score\n",
    "from sklearn.metrics import classification_report\n",
    "from sklearn.metrics import roc_auc_score"
   ]
  },
  {
   "cell_type": "code",
   "execution_count": 3,
   "id": "14ec4e47",
   "metadata": {
    "execution": {
     "iopub.execute_input": "2022-05-16T19:06:59.410425Z",
     "iopub.status.busy": "2022-05-16T19:06:59.410103Z",
     "iopub.status.idle": "2022-05-16T19:06:59.425396Z",
     "shell.execute_reply": "2022-05-16T19:06:59.424522Z"
    },
    "papermill": {
     "duration": 0.080591,
     "end_time": "2022-05-16T19:06:59.427765",
     "exception": false,
     "start_time": "2022-05-16T19:06:59.347174",
     "status": "completed"
    },
    "tags": []
   },
   "outputs": [],
   "source": [
    "dtypes = {\n",
    "        'MachineIdentifier':                                    'category',\n",
    "        'ProductName':                                          'category',\n",
    "        'EngineVersion':                                        'category',\n",
    "        'AppVersion':                                           'category',\n",
    "        'AvSigVersion':                                         'category',\n",
    "        'IsBeta':                                               'int8',\n",
    "        'RtpStateBitfield':                                     'float16',\n",
    "        'IsSxsPassiveMode':                                     'int8',\n",
    "        'DefaultBrowsersIdentifier':                            'float16',\n",
    "        'AVProductStatesIdentifier':                            'float32',\n",
    "        'AVProductsInstalled':                                  'float16',\n",
    "        'AVProductsEnabled':                                    'float16',\n",
    "        'HasTpm':                                               'int8',\n",
    "        'CountryIdentifier':                                    'int16',\n",
    "        'CityIdentifier':                                       'float32',\n",
    "        'OrganizationIdentifier':                               'float16',\n",
    "        'GeoNameIdentifier':                                    'float16',\n",
    "        'LocaleEnglishNameIdentifier':                          'int16',\n",
    "        'Platform':                                             'category',\n",
    "        'Processor':                                            'category',\n",
    "        'OsVer':                                                'category',\n",
    "        'OsBuild':                                              'int16',\n",
    "        'OsSuite':                                              'int16',\n",
    "        'OsPlatformSubRelease':                                 'category',\n",
    "        'OsBuildLab':                                           'category',\n",
    "        'SkuEdition':                                           'category',\n",
    "        'IsProtected':                                          'float16',\n",
    "        'AutoSampleOptIn':                                      'int8',\n",
    "        'PuaMode':                                              'category',\n",
    "        'SMode':                                                'float16',\n",
    "        'IeVerIdentifier':                                      'float16',\n",
    "        'SmartScreen':                                          'category',\n",
    "        'Firewall':                                             'float16',\n",
    "        'UacLuaenable':                                         'float32',\n",
    "        'Census_MDC2FormFactor':                                'category',\n",
    "        'Census_DeviceFamily':                                  'category',\n",
    "        'Census_OEMNameIdentifier':                             'float16',\n",
    "        'Census_OEMModelIdentifier':                            'float32',\n",
    "        'Census_ProcessorCoreCount':                            'float16',\n",
    "        'Census_ProcessorManufacturerIdentifier':               'float16',\n",
    "        'Census_ProcessorModelIdentifier':                      'float16',\n",
    "        'Census_ProcessorClass':                                'category',\n",
    "        'Census_PrimaryDiskTotalCapacity':                      'float32',\n",
    "        'Census_PrimaryDiskTypeName':                           'category',\n",
    "        'Census_SystemVolumeTotalCapacity':                     'float32',\n",
    "        'Census_HasOpticalDiskDrive':                           'float16',\n",
    "        'Census_TotalPhysicalRAM':                              'float32',\n",
    "        'Census_ChassisTypeName':                               'category',\n",
    "        'Census_InternalPrimaryDiagonalDisplaySizeInInches':    'float16',\n",
    "        'Census_InternalPrimaryDisplayResolutionHorizontal':    'float16',\n",
    "        'Census_InternalPrimaryDisplayResolutionVertical':      'float16',\n",
    "        'Census_PowerPlatformRoleName':                         'category',\n",
    "        'Census_InternalBatteryType':                           'category',\n",
    "        'Census_InternalBatteryNumberOfCharges':                'float32',\n",
    "        'Census_OSVersion':                                     'category',\n",
    "        'Census_OSArchitecture':                                'category',\n",
    "        'Census_OSBranch':                                      'category',\n",
    "        'Census_OSBuildNumber':                                 'int16',\n",
    "        'Census_OSBuildRevision':                               'int32',\n",
    "        'Census_OSEdition':                                     'category',\n",
    "        'Census_OSSkuName':                                     'category',\n",
    "        'Census_OSInstallTypeName':                             'category',\n",
    "        'Census_OSInstallLanguageIdentifier':                   'float16',\n",
    "        'Census_OSUILocaleIdentifier':                          'int16',\n",
    "        'Census_OSWUAutoUpdateOptionsName':                     'category',\n",
    "        'Census_IsPortableOperatingSystem':                     'int8',\n",
    "        'Census_GenuineStateName':                              'category',\n",
    "        'Census_ActivationChannel':                             'category',\n",
    "        'Census_IsFlightingInternal':                           'float16',\n",
    "        'Census_IsFlightsDisabled':                             'float16',\n",
    "        'Census_FlightRing':                                    'category',\n",
    "        'Census_ThresholdOptIn':                                'float16',\n",
    "        'Census_FirmwareManufacturerIdentifier':                'float16',\n",
    "        'Census_FirmwareVersionIdentifier':                     'float32',\n",
    "        'Census_IsSecureBootEnabled':                           'float16',\n",
    "        'Census_IsWIMBootEnabled':                              'float16',\n",
    "        'Census_IsVirtualDevice':                               'float16',\n",
    "        'Census_IsTouchEnabled':                                'int8',\n",
    "        'Census_IsPenCapable':                                  'int8',\n",
    "        'Census_IsAlwaysOnAlwaysConnectedCapable':              'float16',\n",
    "        'Wdft_IsGamer':                                         'float16',\n",
    "        'Wdft_RegionIdentifier':                                'float16',\n",
    "        'HasDetections':                                        'float16'\n",
    "        }\n",
    "#%%time"
   ]
  },
  {
   "cell_type": "code",
   "execution_count": 4,
   "id": "de94e1ce",
   "metadata": {
    "execution": {
     "iopub.execute_input": "2022-05-16T19:06:59.552670Z",
     "iopub.status.busy": "2022-05-16T19:06:59.552166Z",
     "iopub.status.idle": "2022-05-16T19:06:59.557839Z",
     "shell.execute_reply": "2022-05-16T19:06:59.556961Z"
    },
    "papermill": {
     "duration": 0.070572,
     "end_time": "2022-05-16T19:06:59.560142",
     "exception": false,
     "start_time": "2022-05-16T19:06:59.489570",
     "status": "completed"
    },
    "tags": []
   },
   "outputs": [],
   "source": [
    "# mostra as células que você quer visualizar e seus tipos de dados\n",
    "numerics = ['int8', 'int16', 'int32', 'int64', 'float16', 'float32', 'float64']\n",
    "numerical_columns = [c for c,v in dtypes.items() if v in numerics]\n",
    "categorical_columns = [c for c,v in dtypes.items() if v not in numerics]\n",
    "\n",
    "retained_columns = numerical_columns + categorical_columns"
   ]
  },
  {
   "cell_type": "code",
   "execution_count": 5,
   "id": "85e37d10",
   "metadata": {
    "execution": {
     "iopub.execute_input": "2022-05-16T19:06:59.687228Z",
     "iopub.status.busy": "2022-05-16T19:06:59.686941Z",
     "iopub.status.idle": "2022-05-16T19:10:10.884694Z",
     "shell.execute_reply": "2022-05-16T19:10:10.883582Z"
    },
    "papermill": {
     "duration": 191.328199,
     "end_time": "2022-05-16T19:10:10.950775",
     "exception": false,
     "start_time": "2022-05-16T19:06:59.622576",
     "status": "completed"
    },
    "tags": []
   },
   "outputs": [
    {
     "data": {
      "text/plain": [
       "0"
      ]
     },
     "execution_count": 5,
     "metadata": {},
     "output_type": "execute_result"
    }
   ],
   "source": [
    "df_train = pd.read_csv('../input/microsoft-malware-prediction/train.csv', usecols = retained_columns, dtype=dtypes,low_memory=True)\n",
    "\n",
    "gc.collect()"
   ]
  },
  {
   "cell_type": "code",
   "execution_count": 6,
   "id": "2f45e991",
   "metadata": {
    "execution": {
     "iopub.execute_input": "2022-05-16T19:10:11.093541Z",
     "iopub.status.busy": "2022-05-16T19:10:11.092983Z",
     "iopub.status.idle": "2022-05-16T19:10:11.133012Z",
     "shell.execute_reply": "2022-05-16T19:10:11.132167Z"
    },
    "papermill": {
     "duration": 0.116146,
     "end_time": "2022-05-16T19:10:11.135287",
     "exception": false,
     "start_time": "2022-05-16T19:10:11.019141",
     "status": "completed"
    },
    "tags": []
   },
   "outputs": [
    {
     "data": {
      "text/html": [
       "<div>\n",
       "<style scoped>\n",
       "    .dataframe tbody tr th:only-of-type {\n",
       "        vertical-align: middle;\n",
       "    }\n",
       "\n",
       "    .dataframe tbody tr th {\n",
       "        vertical-align: top;\n",
       "    }\n",
       "\n",
       "    .dataframe thead th {\n",
       "        text-align: right;\n",
       "    }\n",
       "</style>\n",
       "<table border=\"1\" class=\"dataframe\">\n",
       "  <thead>\n",
       "    <tr style=\"text-align: right;\">\n",
       "      <th></th>\n",
       "      <th>MachineIdentifier</th>\n",
       "      <th>ProductName</th>\n",
       "      <th>EngineVersion</th>\n",
       "      <th>AppVersion</th>\n",
       "      <th>AvSigVersion</th>\n",
       "      <th>IsBeta</th>\n",
       "      <th>RtpStateBitfield</th>\n",
       "      <th>IsSxsPassiveMode</th>\n",
       "      <th>DefaultBrowsersIdentifier</th>\n",
       "      <th>AVProductStatesIdentifier</th>\n",
       "      <th>...</th>\n",
       "      <th>Census_FirmwareVersionIdentifier</th>\n",
       "      <th>Census_IsSecureBootEnabled</th>\n",
       "      <th>Census_IsWIMBootEnabled</th>\n",
       "      <th>Census_IsVirtualDevice</th>\n",
       "      <th>Census_IsTouchEnabled</th>\n",
       "      <th>Census_IsPenCapable</th>\n",
       "      <th>Census_IsAlwaysOnAlwaysConnectedCapable</th>\n",
       "      <th>Wdft_IsGamer</th>\n",
       "      <th>Wdft_RegionIdentifier</th>\n",
       "      <th>HasDetections</th>\n",
       "    </tr>\n",
       "  </thead>\n",
       "  <tbody>\n",
       "    <tr>\n",
       "      <th>0</th>\n",
       "      <td>0000028988387b115f69f31a3bf04f09</td>\n",
       "      <td>win8defender</td>\n",
       "      <td>1.1.15100.1</td>\n",
       "      <td>4.18.1807.18075</td>\n",
       "      <td>1.273.1735.0</td>\n",
       "      <td>0</td>\n",
       "      <td>7.0</td>\n",
       "      <td>0</td>\n",
       "      <td>NaN</td>\n",
       "      <td>53447.0</td>\n",
       "      <td>...</td>\n",
       "      <td>36144.0</td>\n",
       "      <td>0.0</td>\n",
       "      <td>NaN</td>\n",
       "      <td>0.0</td>\n",
       "      <td>0</td>\n",
       "      <td>0</td>\n",
       "      <td>0.0</td>\n",
       "      <td>0.0</td>\n",
       "      <td>10.0</td>\n",
       "      <td>0.0</td>\n",
       "    </tr>\n",
       "    <tr>\n",
       "      <th>1</th>\n",
       "      <td>000007535c3f730efa9ea0b7ef1bd645</td>\n",
       "      <td>win8defender</td>\n",
       "      <td>1.1.14600.4</td>\n",
       "      <td>4.13.17134.1</td>\n",
       "      <td>1.263.48.0</td>\n",
       "      <td>0</td>\n",
       "      <td>7.0</td>\n",
       "      <td>0</td>\n",
       "      <td>NaN</td>\n",
       "      <td>53447.0</td>\n",
       "      <td>...</td>\n",
       "      <td>57858.0</td>\n",
       "      <td>0.0</td>\n",
       "      <td>NaN</td>\n",
       "      <td>0.0</td>\n",
       "      <td>0</td>\n",
       "      <td>0</td>\n",
       "      <td>0.0</td>\n",
       "      <td>0.0</td>\n",
       "      <td>8.0</td>\n",
       "      <td>0.0</td>\n",
       "    </tr>\n",
       "    <tr>\n",
       "      <th>2</th>\n",
       "      <td>000007905a28d863f6d0d597892cd692</td>\n",
       "      <td>win8defender</td>\n",
       "      <td>1.1.15100.1</td>\n",
       "      <td>4.18.1807.18075</td>\n",
       "      <td>1.273.1341.0</td>\n",
       "      <td>0</td>\n",
       "      <td>7.0</td>\n",
       "      <td>0</td>\n",
       "      <td>NaN</td>\n",
       "      <td>53447.0</td>\n",
       "      <td>...</td>\n",
       "      <td>52682.0</td>\n",
       "      <td>0.0</td>\n",
       "      <td>NaN</td>\n",
       "      <td>0.0</td>\n",
       "      <td>0</td>\n",
       "      <td>0</td>\n",
       "      <td>0.0</td>\n",
       "      <td>0.0</td>\n",
       "      <td>3.0</td>\n",
       "      <td>0.0</td>\n",
       "    </tr>\n",
       "    <tr>\n",
       "      <th>3</th>\n",
       "      <td>00000b11598a75ea8ba1beea8459149f</td>\n",
       "      <td>win8defender</td>\n",
       "      <td>1.1.15100.1</td>\n",
       "      <td>4.18.1807.18075</td>\n",
       "      <td>1.273.1527.0</td>\n",
       "      <td>0</td>\n",
       "      <td>7.0</td>\n",
       "      <td>0</td>\n",
       "      <td>NaN</td>\n",
       "      <td>53447.0</td>\n",
       "      <td>...</td>\n",
       "      <td>20050.0</td>\n",
       "      <td>0.0</td>\n",
       "      <td>NaN</td>\n",
       "      <td>0.0</td>\n",
       "      <td>0</td>\n",
       "      <td>0</td>\n",
       "      <td>0.0</td>\n",
       "      <td>0.0</td>\n",
       "      <td>3.0</td>\n",
       "      <td>1.0</td>\n",
       "    </tr>\n",
       "    <tr>\n",
       "      <th>4</th>\n",
       "      <td>000014a5f00daa18e76b81417eeb99fc</td>\n",
       "      <td>win8defender</td>\n",
       "      <td>1.1.15100.1</td>\n",
       "      <td>4.18.1807.18075</td>\n",
       "      <td>1.273.1379.0</td>\n",
       "      <td>0</td>\n",
       "      <td>7.0</td>\n",
       "      <td>0</td>\n",
       "      <td>NaN</td>\n",
       "      <td>53447.0</td>\n",
       "      <td>...</td>\n",
       "      <td>19844.0</td>\n",
       "      <td>0.0</td>\n",
       "      <td>0.0</td>\n",
       "      <td>0.0</td>\n",
       "      <td>0</td>\n",
       "      <td>0</td>\n",
       "      <td>0.0</td>\n",
       "      <td>0.0</td>\n",
       "      <td>1.0</td>\n",
       "      <td>1.0</td>\n",
       "    </tr>\n",
       "  </tbody>\n",
       "</table>\n",
       "<p>5 rows × 83 columns</p>\n",
       "</div>"
      ],
      "text/plain": [
       "                  MachineIdentifier   ProductName EngineVersion  \\\n",
       "0  0000028988387b115f69f31a3bf04f09  win8defender   1.1.15100.1   \n",
       "1  000007535c3f730efa9ea0b7ef1bd645  win8defender   1.1.14600.4   \n",
       "2  000007905a28d863f6d0d597892cd692  win8defender   1.1.15100.1   \n",
       "3  00000b11598a75ea8ba1beea8459149f  win8defender   1.1.15100.1   \n",
       "4  000014a5f00daa18e76b81417eeb99fc  win8defender   1.1.15100.1   \n",
       "\n",
       "        AppVersion  AvSigVersion  IsBeta  RtpStateBitfield  IsSxsPassiveMode  \\\n",
       "0  4.18.1807.18075  1.273.1735.0       0               7.0                 0   \n",
       "1     4.13.17134.1    1.263.48.0       0               7.0                 0   \n",
       "2  4.18.1807.18075  1.273.1341.0       0               7.0                 0   \n",
       "3  4.18.1807.18075  1.273.1527.0       0               7.0                 0   \n",
       "4  4.18.1807.18075  1.273.1379.0       0               7.0                 0   \n",
       "\n",
       "   DefaultBrowsersIdentifier  AVProductStatesIdentifier  ...  \\\n",
       "0                        NaN                    53447.0  ...   \n",
       "1                        NaN                    53447.0  ...   \n",
       "2                        NaN                    53447.0  ...   \n",
       "3                        NaN                    53447.0  ...   \n",
       "4                        NaN                    53447.0  ...   \n",
       "\n",
       "   Census_FirmwareVersionIdentifier  Census_IsSecureBootEnabled  \\\n",
       "0                           36144.0                         0.0   \n",
       "1                           57858.0                         0.0   \n",
       "2                           52682.0                         0.0   \n",
       "3                           20050.0                         0.0   \n",
       "4                           19844.0                         0.0   \n",
       "\n",
       "   Census_IsWIMBootEnabled  Census_IsVirtualDevice  Census_IsTouchEnabled  \\\n",
       "0                      NaN                     0.0                      0   \n",
       "1                      NaN                     0.0                      0   \n",
       "2                      NaN                     0.0                      0   \n",
       "3                      NaN                     0.0                      0   \n",
       "4                      0.0                     0.0                      0   \n",
       "\n",
       "   Census_IsPenCapable  Census_IsAlwaysOnAlwaysConnectedCapable  Wdft_IsGamer  \\\n",
       "0                    0                                      0.0           0.0   \n",
       "1                    0                                      0.0           0.0   \n",
       "2                    0                                      0.0           0.0   \n",
       "3                    0                                      0.0           0.0   \n",
       "4                    0                                      0.0           0.0   \n",
       "\n",
       "  Wdft_RegionIdentifier HasDetections  \n",
       "0                  10.0           0.0  \n",
       "1                   8.0           0.0  \n",
       "2                   3.0           0.0  \n",
       "3                   3.0           1.0  \n",
       "4                   1.0           1.0  \n",
       "\n",
       "[5 rows x 83 columns]"
      ]
     },
     "execution_count": 6,
     "metadata": {},
     "output_type": "execute_result"
    }
   ],
   "source": [
    "# retirando os espaços dos nomes das colunas\n",
    "Coluna_name=[]\n",
    "for i in df_train:\n",
    "    Coluna_name.append(i.strip()) \n",
    "df_train.columns = Coluna_name \n",
    "\n",
    "df_train.head()"
   ]
  },
  {
   "cell_type": "code",
   "execution_count": 7,
   "id": "adbe3a37",
   "metadata": {
    "execution": {
     "iopub.execute_input": "2022-05-16T19:10:11.267557Z",
     "iopub.status.busy": "2022-05-16T19:10:11.267251Z",
     "iopub.status.idle": "2022-05-16T19:10:11.273782Z",
     "shell.execute_reply": "2022-05-16T19:10:11.272861Z"
    },
    "papermill": {
     "duration": 0.076139,
     "end_time": "2022-05-16T19:10:11.275893",
     "exception": false,
     "start_time": "2022-05-16T19:10:11.199754",
     "status": "completed"
    },
    "tags": []
   },
   "outputs": [
    {
     "data": {
      "text/plain": [
       "(8921483, 83)"
      ]
     },
     "execution_count": 7,
     "metadata": {},
     "output_type": "execute_result"
    }
   ],
   "source": [
    "# verificando a quantidade de linha e coluna\n",
    "df_train.shape"
   ]
  },
  {
   "cell_type": "code",
   "execution_count": 8,
   "id": "a521199e",
   "metadata": {
    "execution": {
     "iopub.execute_input": "2022-05-16T19:10:11.403026Z",
     "iopub.status.busy": "2022-05-16T19:10:11.402479Z",
     "iopub.status.idle": "2022-05-16T19:10:18.227489Z",
     "shell.execute_reply": "2022-05-16T19:10:18.226615Z"
    },
    "papermill": {
     "duration": 6.891265,
     "end_time": "2022-05-16T19:10:18.229602",
     "exception": false,
     "start_time": "2022-05-16T19:10:11.338337",
     "status": "completed"
    },
    "tags": []
   },
   "outputs": [
    {
     "data": {
      "text/plain": [
       "(4460742, 83)"
      ]
     },
     "execution_count": 8,
     "metadata": {},
     "output_type": "execute_result"
    }
   ],
   "source": [
    "train_reduze = df_train.sample(frac = 0.50, random_state = 5)\n",
    "\n",
    "train_reduze.shape"
   ]
  },
  {
   "cell_type": "markdown",
   "id": "81d14b78",
   "metadata": {
    "papermill": {
     "duration": 0.062348,
     "end_time": "2022-05-16T19:10:18.355145",
     "exception": false,
     "start_time": "2022-05-16T19:10:18.292797",
     "status": "completed"
    },
    "tags": []
   },
   "source": [
    "CORRELAÇÃO"
   ]
  },
  {
   "cell_type": "code",
   "execution_count": 9,
   "id": "36fd3ab2",
   "metadata": {
    "execution": {
     "iopub.execute_input": "2022-05-16T19:10:18.482296Z",
     "iopub.status.busy": "2022-05-16T19:10:18.481877Z",
     "iopub.status.idle": "2022-05-16T19:10:54.042437Z",
     "shell.execute_reply": "2022-05-16T19:10:54.041500Z"
    },
    "papermill": {
     "duration": 35.690909,
     "end_time": "2022-05-16T19:10:54.108827",
     "exception": false,
     "start_time": "2022-05-16T19:10:18.417918",
     "status": "completed"
    },
    "tags": []
   },
   "outputs": [
    {
     "data": {
      "text/plain": [
       "IsBeta                                              -0.000077\n",
       "RtpStateBitfield                                     0.041207\n",
       "IsSxsPassiveMode                                    -0.034474\n",
       "DefaultBrowsersIdentifier                           -0.001642\n",
       "AVProductStatesIdentifier                            0.116853\n",
       "AVProductsInstalled                                 -0.149120\n",
       "AVProductsEnabled                                   -0.042206\n",
       "HasTpm                                               0.005900\n",
       "CountryIdentifier                                    0.007571\n",
       "CityIdentifier                                      -0.002228\n",
       "OrganizationIdentifier                               0.002512\n",
       "GeoNameIdentifier                                    0.004095\n",
       "LocaleEnglishNameIdentifier                          0.015217\n",
       "OsBuild                                              0.025059\n",
       "OsSuite                                             -0.020582\n",
       "IsProtected                                          0.057179\n",
       "AutoSampleOptIn                                      0.001020\n",
       "SMode                                               -0.013800\n",
       "IeVerIdentifier                                      0.015346\n",
       "Firewall                                             0.002790\n",
       "UacLuaenable                                        -0.000918\n",
       "Census_OEMNameIdentifier                            -0.015352\n",
       "Census_OEMModelIdentifier                           -0.004222\n",
       "Census_ProcessorCoreCount                            0.054909\n",
       "Census_ProcessorManufacturerIdentifier               0.006750\n",
       "Census_ProcessorModelIdentifier                      0.022752\n",
       "Census_PrimaryDiskTotalCapacity                      0.000237\n",
       "Census_SystemVolumeTotalCapacity                     0.014296\n",
       "Census_HasOpticalDiskDrive                           0.021462\n",
       "Census_TotalPhysicalRAM                              0.057265\n",
       "Census_InternalPrimaryDiagonalDisplaySizeInInches    0.034283\n",
       "Census_InternalPrimaryDisplayResolutionHorizontal    0.032186\n",
       "Census_InternalPrimaryDisplayResolutionVertical      0.014095\n",
       "Census_InternalBatteryNumberOfCharges                0.020020\n",
       "Census_OSBuildNumber                                 0.029731\n",
       "Census_OSBuildRevision                              -0.009217\n",
       "Census_OSInstallLanguageIdentifier                   0.002464\n",
       "Census_OSUILocaleIdentifier                          0.001743\n",
       "Census_IsPortableOperatingSystem                     0.003011\n",
       "Census_IsFlightingInternal                           0.000440\n",
       "Census_IsFlightsDisabled                            -0.003024\n",
       "Census_ThresholdOptIn                                0.001177\n",
       "Census_FirmwareManufacturerIdentifier               -0.026194\n",
       "Census_FirmwareVersionIdentifier                    -0.001999\n",
       "Census_IsSecureBootEnabled                          -0.001993\n",
       "Census_IsWIMBootEnabled                             -0.000771\n",
       "Census_IsVirtualDevice                              -0.051434\n",
       "Census_IsTouchEnabled                               -0.039923\n",
       "Census_IsPenCapable                                 -0.016812\n",
       "Census_IsAlwaysOnAlwaysConnectedCapable             -0.062567\n",
       "Wdft_IsGamer                                         0.054053\n",
       "Wdft_RegionIdentifier                               -0.023254\n",
       "HasDetections                                        1.000000\n",
       "Name: HasDetections, dtype: float64"
      ]
     },
     "execution_count": 9,
     "metadata": {},
     "output_type": "execute_result"
    }
   ],
   "source": [
    "# Matriz de correlação em relação ao target\n",
    "correlacao = train_reduze.corr()['HasDetections']\n",
    "correlacao"
   ]
  },
  {
   "cell_type": "code",
   "execution_count": 10,
   "id": "2d81e65c",
   "metadata": {
    "execution": {
     "iopub.execute_input": "2022-05-16T19:10:54.238875Z",
     "iopub.status.busy": "2022-05-16T19:10:54.238406Z",
     "iopub.status.idle": "2022-05-16T19:11:30.332607Z",
     "shell.execute_reply": "2022-05-16T19:11:30.331374Z"
    },
    "papermill": {
     "duration": 36.229838,
     "end_time": "2022-05-16T19:11:30.402011",
     "exception": false,
     "start_time": "2022-05-16T19:10:54.172173",
     "status": "completed"
    },
    "tags": []
   },
   "outputs": [
    {
     "name": "stdout",
     "output_type": "stream",
     "text": [
      "['IsBeta']\n",
      "['RtpStateBitfield']\n",
      "['IsSxsPassiveMode']\n",
      "['DefaultBrowsersIdentifier']\n",
      "['AVProductStatesIdentifier']\n",
      "['AVProductsInstalled']\n",
      "['AVProductsEnabled']\n",
      "['HasTpm']\n",
      "['CountryIdentifier']\n",
      "['CityIdentifier']\n",
      "['OrganizationIdentifier']\n",
      "['GeoNameIdentifier']\n",
      "['LocaleEnglishNameIdentifier']\n",
      "['OsBuild']\n",
      "['OsSuite']\n",
      "['IsProtected']\n",
      "['AutoSampleOptIn']\n",
      "['SMode']\n",
      "['IeVerIdentifier']\n",
      "['Firewall']\n",
      "['UacLuaenable']\n",
      "['Census_OEMNameIdentifier']\n",
      "['Census_OEMModelIdentifier']\n",
      "['Census_ProcessorCoreCount']\n",
      "['Census_ProcessorManufacturerIdentifier']\n",
      "['Census_ProcessorModelIdentifier']\n",
      "['Census_PrimaryDiskTotalCapacity']\n",
      "['Census_SystemVolumeTotalCapacity']\n",
      "['Census_HasOpticalDiskDrive']\n",
      "['Census_TotalPhysicalRAM']\n",
      "['Census_InternalPrimaryDiagonalDisplaySizeInInches']\n",
      "['Census_InternalPrimaryDisplayResolutionHorizontal']\n",
      "['Census_InternalPrimaryDisplayResolutionVertical']\n",
      "['Census_InternalBatteryNumberOfCharges']\n",
      "['Census_OSBuildNumber']\n",
      "['Census_OSBuildRevision']\n",
      "['Census_OSInstallLanguageIdentifier']\n",
      "['Census_OSUILocaleIdentifier']\n",
      "['Census_IsPortableOperatingSystem']\n",
      "['Census_IsFlightingInternal']\n",
      "['Census_IsFlightsDisabled']\n",
      "['Census_ThresholdOptIn']\n",
      "['Census_FirmwareManufacturerIdentifier']\n",
      "['Census_FirmwareVersionIdentifier']\n",
      "['Census_IsSecureBootEnabled']\n",
      "['Census_IsWIMBootEnabled']\n",
      "['Census_IsVirtualDevice']\n",
      "['Census_IsTouchEnabled']\n",
      "['Census_IsPenCapable']\n",
      "['Census_IsAlwaysOnAlwaysConnectedCapable']\n",
      "['Wdft_IsGamer']\n",
      "['Wdft_RegionIdentifier']\n"
     ]
    }
   ],
   "source": [
    "var = train_reduze.corr()['HasDetections'].abs()<=0.6\n",
    "dic = var.to_dict() \n",
    "\n",
    "for i, v in dic.items():\n",
    "    if v is True:\n",
    "        print([i])"
   ]
  },
  {
   "cell_type": "markdown",
   "id": "9297a432",
   "metadata": {
    "papermill": {
     "duration": 0.063878,
     "end_time": "2022-05-16T19:11:30.531909",
     "exception": false,
     "start_time": "2022-05-16T19:11:30.468031",
     "status": "completed"
    },
    "tags": []
   },
   "source": [
    "EXCLUINDO COLUNAS"
   ]
  },
  {
   "cell_type": "code",
   "execution_count": 11,
   "id": "0640c49b",
   "metadata": {
    "execution": {
     "iopub.execute_input": "2022-05-16T19:11:30.663133Z",
     "iopub.status.busy": "2022-05-16T19:11:30.662778Z",
     "iopub.status.idle": "2022-05-16T19:11:30.682566Z",
     "shell.execute_reply": "2022-05-16T19:11:30.681824Z"
    },
    "papermill": {
     "duration": 0.087866,
     "end_time": "2022-05-16T19:11:30.684696",
     "exception": false,
     "start_time": "2022-05-16T19:11:30.596830",
     "status": "completed"
    },
    "tags": []
   },
   "outputs": [],
   "source": [
    "train_reduze.drop(columns=['IsBeta','RtpStateBitfield','IsSxsPassiveMode','DefaultBrowsersIdentifier','AVProductStatesIdentifier',\n",
    "                       'AVProductsInstalled','AVProductsEnabled','HasTpm','CountryIdentifier','CityIdentifier',\n",
    "                       'OrganizationIdentifier','GeoNameIdentifier','LocaleEnglishNameIdentifier','OsBuild','OsSuite',\n",
    "                       'IsProtected','AutoSampleOptIn','SMode','IeVerIdentifier','Firewall','UacLuaenable',\n",
    "                       'Census_OEMNameIdentifier','Census_OEMModelIdentifier','Census_ProcessorCoreCount',\n",
    "                       'Census_ProcessorManufacturerIdentifier','Census_ProcessorModelIdentifier','Census_PrimaryDiskTotalCapacity',\n",
    "                       'Census_SystemVolumeTotalCapacity','Census_HasOpticalDiskDrive','Census_TotalPhysicalRAM','Census_InternalPrimaryDiagonalDisplaySizeInInches',\n",
    "                       'Census_InternalPrimaryDisplayResolutionHorizontal','Census_InternalPrimaryDisplayResolutionVertical',\n",
    "                       'Census_InternalBatteryNumberOfCharges','Census_OSBuildNumber','Census_OSBuildRevision','Census_OSInstallLanguageIdentifier',\n",
    "                       'Census_OSUILocaleIdentifier','Census_IsPortableOperatingSystem','Census_IsFlightingInternal','Census_IsFlightsDisabled',\n",
    "                       'Census_ThresholdOptIn','Census_FirmwareManufacturerIdentifier','Census_FirmwareVersionIdentifier','Census_IsSecureBootEnabled',\n",
    "                       'Census_IsWIMBootEnabled','Census_IsVirtualDevice','Census_IsTouchEnabled','Census_IsPenCapable',\n",
    "                       'Census_IsAlwaysOnAlwaysConnectedCapable','Wdft_IsGamer','Wdft_RegionIdentifier','PuaMode','SmartScreen',\n",
    "                       'Census_ProcessorClass','Census_PrimaryDiskTypeName','Census_ChassisTypeName','Census_PowerPlatformRoleName',\n",
    "                       'Census_InternalBatteryType','OsBuildLab','MachineIdentifier'], axis = 1,inplace = True)"
   ]
  },
  {
   "cell_type": "code",
   "execution_count": 12,
   "id": "1c52f4cb",
   "metadata": {
    "execution": {
     "iopub.execute_input": "2022-05-16T19:11:30.816932Z",
     "iopub.status.busy": "2022-05-16T19:11:30.816459Z",
     "iopub.status.idle": "2022-05-16T19:11:30.822321Z",
     "shell.execute_reply": "2022-05-16T19:11:30.821531Z"
    },
    "papermill": {
     "duration": 0.075246,
     "end_time": "2022-05-16T19:11:30.824199",
     "exception": false,
     "start_time": "2022-05-16T19:11:30.748953",
     "status": "completed"
    },
    "tags": []
   },
   "outputs": [
    {
     "data": {
      "text/plain": [
       "(4460742, 22)"
      ]
     },
     "execution_count": 12,
     "metadata": {},
     "output_type": "execute_result"
    }
   ],
   "source": [
    "# verificando a quantidade de linha e coluna\n",
    "train_reduze.shape"
   ]
  },
  {
   "cell_type": "code",
   "execution_count": 13,
   "id": "47c7c697",
   "metadata": {
    "execution": {
     "iopub.execute_input": "2022-05-16T19:11:30.957178Z",
     "iopub.status.busy": "2022-05-16T19:11:30.956513Z",
     "iopub.status.idle": "2022-05-16T19:11:30.992478Z",
     "shell.execute_reply": "2022-05-16T19:11:30.991722Z"
    },
    "papermill": {
     "duration": 0.104025,
     "end_time": "2022-05-16T19:11:30.994568",
     "exception": false,
     "start_time": "2022-05-16T19:11:30.890543",
     "status": "completed"
    },
    "tags": []
   },
   "outputs": [
    {
     "data": {
      "text/html": [
       "<div>\n",
       "<style scoped>\n",
       "    .dataframe tbody tr th:only-of-type {\n",
       "        vertical-align: middle;\n",
       "    }\n",
       "\n",
       "    .dataframe tbody tr th {\n",
       "        vertical-align: top;\n",
       "    }\n",
       "\n",
       "    .dataframe thead th {\n",
       "        text-align: right;\n",
       "    }\n",
       "</style>\n",
       "<table border=\"1\" class=\"dataframe\">\n",
       "  <thead>\n",
       "    <tr style=\"text-align: right;\">\n",
       "      <th></th>\n",
       "      <th>ProductName</th>\n",
       "      <th>EngineVersion</th>\n",
       "      <th>AppVersion</th>\n",
       "      <th>AvSigVersion</th>\n",
       "      <th>Platform</th>\n",
       "      <th>Processor</th>\n",
       "      <th>OsVer</th>\n",
       "      <th>OsPlatformSubRelease</th>\n",
       "      <th>SkuEdition</th>\n",
       "      <th>Census_MDC2FormFactor</th>\n",
       "      <th>...</th>\n",
       "      <th>Census_OSArchitecture</th>\n",
       "      <th>Census_OSBranch</th>\n",
       "      <th>Census_OSEdition</th>\n",
       "      <th>Census_OSSkuName</th>\n",
       "      <th>Census_OSInstallTypeName</th>\n",
       "      <th>Census_OSWUAutoUpdateOptionsName</th>\n",
       "      <th>Census_GenuineStateName</th>\n",
       "      <th>Census_ActivationChannel</th>\n",
       "      <th>Census_FlightRing</th>\n",
       "      <th>HasDetections</th>\n",
       "    </tr>\n",
       "  </thead>\n",
       "  <tbody>\n",
       "    <tr>\n",
       "      <th>6414404</th>\n",
       "      <td>win8defender</td>\n",
       "      <td>1.1.15100.1</td>\n",
       "      <td>4.18.1807.18075</td>\n",
       "      <td>1.273.1478.0</td>\n",
       "      <td>windows10</td>\n",
       "      <td>x64</td>\n",
       "      <td>10.0.0.0</td>\n",
       "      <td>rs2</td>\n",
       "      <td>Pro</td>\n",
       "      <td>Desktop</td>\n",
       "      <td>...</td>\n",
       "      <td>amd64</td>\n",
       "      <td>rs2_release</td>\n",
       "      <td>Professional</td>\n",
       "      <td>PROFESSIONAL</td>\n",
       "      <td>IBSClean</td>\n",
       "      <td>UNKNOWN</td>\n",
       "      <td>IS_GENUINE</td>\n",
       "      <td>Volume:GVLK</td>\n",
       "      <td>Retail</td>\n",
       "      <td>1.0</td>\n",
       "    </tr>\n",
       "    <tr>\n",
       "      <th>618844</th>\n",
       "      <td>win8defender</td>\n",
       "      <td>1.1.14901.4</td>\n",
       "      <td>4.14.17639.18041</td>\n",
       "      <td>1.269.149.0</td>\n",
       "      <td>windows10</td>\n",
       "      <td>x64</td>\n",
       "      <td>10.0.0.0</td>\n",
       "      <td>rs3</td>\n",
       "      <td>Home</td>\n",
       "      <td>Notebook</td>\n",
       "      <td>...</td>\n",
       "      <td>amd64</td>\n",
       "      <td>rs3_release_svc_escrow</td>\n",
       "      <td>Core</td>\n",
       "      <td>CORE</td>\n",
       "      <td>Upgrade</td>\n",
       "      <td>UNKNOWN</td>\n",
       "      <td>IS_GENUINE</td>\n",
       "      <td>Retail</td>\n",
       "      <td>Retail</td>\n",
       "      <td>0.0</td>\n",
       "    </tr>\n",
       "    <tr>\n",
       "      <th>2605303</th>\n",
       "      <td>win8defender</td>\n",
       "      <td>1.1.15200.1</td>\n",
       "      <td>4.18.1807.18075</td>\n",
       "      <td>1.275.316.0</td>\n",
       "      <td>windows10</td>\n",
       "      <td>x64</td>\n",
       "      <td>10.0.0.0</td>\n",
       "      <td>rs4</td>\n",
       "      <td>Pro</td>\n",
       "      <td>Desktop</td>\n",
       "      <td>...</td>\n",
       "      <td>amd64</td>\n",
       "      <td>rs4_release</td>\n",
       "      <td>Professional</td>\n",
       "      <td>PROFESSIONAL</td>\n",
       "      <td>UUPUpgrade</td>\n",
       "      <td>FullAuto</td>\n",
       "      <td>IS_GENUINE</td>\n",
       "      <td>OEM:DM</td>\n",
       "      <td>Retail</td>\n",
       "      <td>1.0</td>\n",
       "    </tr>\n",
       "    <tr>\n",
       "      <th>5803051</th>\n",
       "      <td>win8defender</td>\n",
       "      <td>1.1.15100.1</td>\n",
       "      <td>4.18.1806.18062</td>\n",
       "      <td>1.273.483.0</td>\n",
       "      <td>windows10</td>\n",
       "      <td>x64</td>\n",
       "      <td>10.0.0.0</td>\n",
       "      <td>rs3</td>\n",
       "      <td>Pro</td>\n",
       "      <td>Notebook</td>\n",
       "      <td>...</td>\n",
       "      <td>amd64</td>\n",
       "      <td>rs3_release_svc_escrow</td>\n",
       "      <td>Professional</td>\n",
       "      <td>PROFESSIONAL</td>\n",
       "      <td>Update</td>\n",
       "      <td>UNKNOWN</td>\n",
       "      <td>INVALID_LICENSE</td>\n",
       "      <td>Retail</td>\n",
       "      <td>Retail</td>\n",
       "      <td>1.0</td>\n",
       "    </tr>\n",
       "    <tr>\n",
       "      <th>2940637</th>\n",
       "      <td>win8defender</td>\n",
       "      <td>1.1.15200.1</td>\n",
       "      <td>4.18.1807.18075</td>\n",
       "      <td>1.275.138.0</td>\n",
       "      <td>windows10</td>\n",
       "      <td>x64</td>\n",
       "      <td>10.0.0.0</td>\n",
       "      <td>rs4</td>\n",
       "      <td>Pro</td>\n",
       "      <td>Desktop</td>\n",
       "      <td>...</td>\n",
       "      <td>amd64</td>\n",
       "      <td>rs4_release</td>\n",
       "      <td>Professional</td>\n",
       "      <td>PROFESSIONAL</td>\n",
       "      <td>IBSClean</td>\n",
       "      <td>FullAuto</td>\n",
       "      <td>IS_GENUINE</td>\n",
       "      <td>Volume:MAK</td>\n",
       "      <td>Retail</td>\n",
       "      <td>1.0</td>\n",
       "    </tr>\n",
       "  </tbody>\n",
       "</table>\n",
       "<p>5 rows × 22 columns</p>\n",
       "</div>"
      ],
      "text/plain": [
       "          ProductName EngineVersion        AppVersion  AvSigVersion  \\\n",
       "6414404  win8defender   1.1.15100.1   4.18.1807.18075  1.273.1478.0   \n",
       "618844   win8defender   1.1.14901.4  4.14.17639.18041   1.269.149.0   \n",
       "2605303  win8defender   1.1.15200.1   4.18.1807.18075   1.275.316.0   \n",
       "5803051  win8defender   1.1.15100.1   4.18.1806.18062   1.273.483.0   \n",
       "2940637  win8defender   1.1.15200.1   4.18.1807.18075   1.275.138.0   \n",
       "\n",
       "          Platform Processor     OsVer OsPlatformSubRelease SkuEdition  \\\n",
       "6414404  windows10       x64  10.0.0.0                  rs2        Pro   \n",
       "618844   windows10       x64  10.0.0.0                  rs3       Home   \n",
       "2605303  windows10       x64  10.0.0.0                  rs4        Pro   \n",
       "5803051  windows10       x64  10.0.0.0                  rs3        Pro   \n",
       "2940637  windows10       x64  10.0.0.0                  rs4        Pro   \n",
       "\n",
       "        Census_MDC2FormFactor  ... Census_OSArchitecture  \\\n",
       "6414404               Desktop  ...                 amd64   \n",
       "618844               Notebook  ...                 amd64   \n",
       "2605303               Desktop  ...                 amd64   \n",
       "5803051              Notebook  ...                 amd64   \n",
       "2940637               Desktop  ...                 amd64   \n",
       "\n",
       "                Census_OSBranch Census_OSEdition Census_OSSkuName  \\\n",
       "6414404             rs2_release     Professional     PROFESSIONAL   \n",
       "618844   rs3_release_svc_escrow             Core             CORE   \n",
       "2605303             rs4_release     Professional     PROFESSIONAL   \n",
       "5803051  rs3_release_svc_escrow     Professional     PROFESSIONAL   \n",
       "2940637             rs4_release     Professional     PROFESSIONAL   \n",
       "\n",
       "        Census_OSInstallTypeName Census_OSWUAutoUpdateOptionsName  \\\n",
       "6414404                 IBSClean                          UNKNOWN   \n",
       "618844                   Upgrade                          UNKNOWN   \n",
       "2605303               UUPUpgrade                         FullAuto   \n",
       "5803051                   Update                          UNKNOWN   \n",
       "2940637                 IBSClean                         FullAuto   \n",
       "\n",
       "        Census_GenuineStateName Census_ActivationChannel Census_FlightRing  \\\n",
       "6414404              IS_GENUINE              Volume:GVLK            Retail   \n",
       "618844               IS_GENUINE                   Retail            Retail   \n",
       "2605303              IS_GENUINE                   OEM:DM            Retail   \n",
       "5803051         INVALID_LICENSE                   Retail            Retail   \n",
       "2940637              IS_GENUINE               Volume:MAK            Retail   \n",
       "\n",
       "        HasDetections  \n",
       "6414404           1.0  \n",
       "618844            0.0  \n",
       "2605303           1.0  \n",
       "5803051           1.0  \n",
       "2940637           1.0  \n",
       "\n",
       "[5 rows x 22 columns]"
      ]
     },
     "execution_count": 13,
     "metadata": {},
     "output_type": "execute_result"
    }
   ],
   "source": [
    "train_reduze.head()"
   ]
  },
  {
   "cell_type": "markdown",
   "id": "7e0849ba",
   "metadata": {
    "papermill": {
     "duration": 0.064548,
     "end_time": "2022-05-16T19:11:31.124197",
     "exception": false,
     "start_time": "2022-05-16T19:11:31.059649",
     "status": "completed"
    },
    "tags": []
   },
   "source": [
    "DADOS NULOS"
   ]
  },
  {
   "cell_type": "code",
   "execution_count": 14,
   "id": "ee473f75",
   "metadata": {
    "execution": {
     "iopub.execute_input": "2022-05-16T19:11:31.256047Z",
     "iopub.status.busy": "2022-05-16T19:11:31.255525Z",
     "iopub.status.idle": "2022-05-16T19:11:31.448478Z",
     "shell.execute_reply": "2022-05-16T19:11:31.447817Z"
    },
    "papermill": {
     "duration": 0.260778,
     "end_time": "2022-05-16T19:11:31.450320",
     "exception": false,
     "start_time": "2022-05-16T19:11:31.189542",
     "status": "completed"
    },
    "tags": []
   },
   "outputs": [
    {
     "data": {
      "text/plain": [
       "ProductName                         0\n",
       "EngineVersion                       0\n",
       "AppVersion                          0\n",
       "AvSigVersion                        0\n",
       "Platform                            0\n",
       "Processor                           0\n",
       "OsVer                               0\n",
       "OsPlatformSubRelease                0\n",
       "SkuEdition                          0\n",
       "Census_MDC2FormFactor               0\n",
       "Census_DeviceFamily                 0\n",
       "Census_OSVersion                    0\n",
       "Census_OSArchitecture               0\n",
       "Census_OSBranch                     0\n",
       "Census_OSEdition                    0\n",
       "Census_OSSkuName                    0\n",
       "Census_OSInstallTypeName            0\n",
       "Census_OSWUAutoUpdateOptionsName    0\n",
       "Census_GenuineStateName             0\n",
       "Census_ActivationChannel            0\n",
       "Census_FlightRing                   0\n",
       "HasDetections                       0\n",
       "dtype: int64"
      ]
     },
     "execution_count": 14,
     "metadata": {},
     "output_type": "execute_result"
    }
   ],
   "source": [
    "# dados faltantes\n",
    "train_reduze.isna().sum()"
   ]
  },
  {
   "cell_type": "code",
   "execution_count": 15,
   "id": "65353ff2",
   "metadata": {
    "execution": {
     "iopub.execute_input": "2022-05-16T19:11:31.588595Z",
     "iopub.status.busy": "2022-05-16T19:11:31.588146Z",
     "iopub.status.idle": "2022-05-16T19:11:31.626902Z",
     "shell.execute_reply": "2022-05-16T19:11:31.626175Z"
    },
    "papermill": {
     "duration": 0.11205,
     "end_time": "2022-05-16T19:11:31.630238",
     "exception": false,
     "start_time": "2022-05-16T19:11:31.518188",
     "status": "completed"
    },
    "tags": []
   },
   "outputs": [
    {
     "name": "stdout",
     "output_type": "stream",
     "text": [
      "<class 'pandas.core.frame.DataFrame'>\n",
      "Int64Index: 4460742 entries, 6414404 to 4776232\n",
      "Data columns (total 22 columns):\n",
      " #   Column                            Dtype   \n",
      "---  ------                            -----   \n",
      " 0   ProductName                       category\n",
      " 1   EngineVersion                     category\n",
      " 2   AppVersion                        category\n",
      " 3   AvSigVersion                      category\n",
      " 4   Platform                          category\n",
      " 5   Processor                         category\n",
      " 6   OsVer                             category\n",
      " 7   OsPlatformSubRelease              category\n",
      " 8   SkuEdition                        category\n",
      " 9   Census_MDC2FormFactor             category\n",
      " 10  Census_DeviceFamily               category\n",
      " 11  Census_OSVersion                  category\n",
      " 12  Census_OSArchitecture             category\n",
      " 13  Census_OSBranch                   category\n",
      " 14  Census_OSEdition                  category\n",
      " 15  Census_OSSkuName                  category\n",
      " 16  Census_OSInstallTypeName          category\n",
      " 17  Census_OSWUAutoUpdateOptionsName  category\n",
      " 18  Census_GenuineStateName           category\n",
      " 19  Census_ActivationChannel          category\n",
      " 20  Census_FlightRing                 category\n",
      " 21  HasDetections                     float16 \n",
      "dtypes: category(21), float16(1)\n",
      "memory usage: 140.7 MB\n"
     ]
    }
   ],
   "source": [
    "# tipo dos dados\n",
    "train_reduze.info()"
   ]
  },
  {
   "cell_type": "markdown",
   "id": "70aefa63",
   "metadata": {
    "papermill": {
     "duration": 0.066589,
     "end_time": "2022-05-16T19:11:31.764305",
     "exception": false,
     "start_time": "2022-05-16T19:11:31.697716",
     "status": "completed"
    },
    "tags": []
   },
   "source": [
    "LINHAS DUPLICADAS"
   ]
  },
  {
   "cell_type": "code",
   "execution_count": 16,
   "id": "c3e7e973",
   "metadata": {
    "execution": {
     "iopub.execute_input": "2022-05-16T19:11:31.903604Z",
     "iopub.status.busy": "2022-05-16T19:11:31.902959Z",
     "iopub.status.idle": "2022-05-16T19:11:33.986208Z",
     "shell.execute_reply": "2022-05-16T19:11:33.984808Z"
    },
    "papermill": {
     "duration": 2.154851,
     "end_time": "2022-05-16T19:11:33.988760",
     "exception": false,
     "start_time": "2022-05-16T19:11:31.833909",
     "status": "completed"
    },
    "tags": []
   },
   "outputs": [
    {
     "name": "stdout",
     "output_type": "stream",
     "text": [
      "6414404    False\n",
      "618844     False\n",
      "2605303    False\n",
      "5803051    False\n",
      "2940637    False\n",
      "           ...  \n",
      "6129021    False\n",
      "3885613    False\n",
      "4427320    False\n",
      "7236256     True\n",
      "4776232    False\n",
      "Length: 4460742, dtype: bool\n"
     ]
    }
   ],
   "source": [
    "# linhas duplicadas\n",
    "print(train_reduze.duplicated())"
   ]
  },
  {
   "cell_type": "code",
   "execution_count": 17,
   "id": "387ab8ca",
   "metadata": {
    "execution": {
     "iopub.execute_input": "2022-05-16T19:11:34.124920Z",
     "iopub.status.busy": "2022-05-16T19:11:34.124366Z",
     "iopub.status.idle": "2022-05-16T19:11:34.127725Z",
     "shell.execute_reply": "2022-05-16T19:11:34.126889Z"
    },
    "papermill": {
     "duration": 0.073764,
     "end_time": "2022-05-16T19:11:34.129715",
     "exception": false,
     "start_time": "2022-05-16T19:11:34.055951",
     "status": "completed"
    },
    "tags": []
   },
   "outputs": [],
   "source": [
    "# remover as repetições, mas deixando a primeira ocorrência\n",
    "\n",
    "#df_train.drop_duplicates(keep='first', inplace=True)"
   ]
  },
  {
   "cell_type": "markdown",
   "id": "d3a504d7",
   "metadata": {
    "papermill": {
     "duration": 0.06822,
     "end_time": "2022-05-16T19:11:34.265083",
     "exception": false,
     "start_time": "2022-05-16T19:11:34.196863",
     "status": "completed"
    },
    "tags": []
   },
   "source": [
    "VARIÁVEIS CATEGÓRICAS"
   ]
  },
  {
   "cell_type": "code",
   "execution_count": 18,
   "id": "21cac7a4",
   "metadata": {
    "execution": {
     "iopub.execute_input": "2022-05-16T19:11:34.401543Z",
     "iopub.status.busy": "2022-05-16T19:11:34.400999Z",
     "iopub.status.idle": "2022-05-16T19:11:34.410130Z",
     "shell.execute_reply": "2022-05-16T19:11:34.408956Z"
    },
    "papermill": {
     "duration": 0.078827,
     "end_time": "2022-05-16T19:11:34.412292",
     "exception": false,
     "start_time": "2022-05-16T19:11:34.333465",
     "status": "completed"
    },
    "tags": []
   },
   "outputs": [
    {
     "data": {
      "text/plain": [
       "['ProductName',\n",
       " 'EngineVersion',\n",
       " 'AppVersion',\n",
       " 'AvSigVersion',\n",
       " 'Platform',\n",
       " 'Processor',\n",
       " 'OsVer',\n",
       " 'OsPlatformSubRelease',\n",
       " 'SkuEdition',\n",
       " 'Census_MDC2FormFactor',\n",
       " 'Census_DeviceFamily',\n",
       " 'Census_OSVersion',\n",
       " 'Census_OSArchitecture',\n",
       " 'Census_OSBranch',\n",
       " 'Census_OSEdition',\n",
       " 'Census_OSSkuName',\n",
       " 'Census_OSInstallTypeName',\n",
       " 'Census_OSWUAutoUpdateOptionsName',\n",
       " 'Census_GenuineStateName',\n",
       " 'Census_ActivationChannel',\n",
       " 'Census_FlightRing']"
      ]
     },
     "execution_count": 18,
     "metadata": {},
     "output_type": "execute_result"
    }
   ],
   "source": [
    "obj = (train_reduze.dtypes == 'category') #quais colunas que são categóricas dentro do dataset?\n",
    "object_cols = list(obj[obj].index)\n",
    "\n",
    "object_cols"
   ]
  },
  {
   "cell_type": "code",
   "execution_count": 19,
   "id": "d02d3b77",
   "metadata": {
    "execution": {
     "iopub.execute_input": "2022-05-16T19:11:34.555494Z",
     "iopub.status.busy": "2022-05-16T19:11:34.554965Z",
     "iopub.status.idle": "2022-05-16T19:12:09.673377Z",
     "shell.execute_reply": "2022-05-16T19:12:09.672432Z"
    },
    "papermill": {
     "duration": 35.265539,
     "end_time": "2022-05-16T19:12:09.746850",
     "exception": false,
     "start_time": "2022-05-16T19:11:34.481311",
     "status": "completed"
    },
    "tags": []
   },
   "outputs": [
    {
     "data": {
      "text/html": [
       "<div>\n",
       "<style scoped>\n",
       "    .dataframe tbody tr th:only-of-type {\n",
       "        vertical-align: middle;\n",
       "    }\n",
       "\n",
       "    .dataframe tbody tr th {\n",
       "        vertical-align: top;\n",
       "    }\n",
       "\n",
       "    .dataframe thead th {\n",
       "        text-align: right;\n",
       "    }\n",
       "</style>\n",
       "<table border=\"1\" class=\"dataframe\">\n",
       "  <thead>\n",
       "    <tr style=\"text-align: right;\">\n",
       "      <th></th>\n",
       "      <th>ProductName</th>\n",
       "      <th>EngineVersion</th>\n",
       "      <th>AppVersion</th>\n",
       "      <th>AvSigVersion</th>\n",
       "      <th>Platform</th>\n",
       "      <th>Processor</th>\n",
       "      <th>OsVer</th>\n",
       "      <th>OsPlatformSubRelease</th>\n",
       "      <th>SkuEdition</th>\n",
       "      <th>Census_MDC2FormFactor</th>\n",
       "      <th>...</th>\n",
       "      <th>Census_OSArchitecture</th>\n",
       "      <th>Census_OSBranch</th>\n",
       "      <th>Census_OSEdition</th>\n",
       "      <th>Census_OSSkuName</th>\n",
       "      <th>Census_OSInstallTypeName</th>\n",
       "      <th>Census_OSWUAutoUpdateOptionsName</th>\n",
       "      <th>Census_GenuineStateName</th>\n",
       "      <th>Census_ActivationChannel</th>\n",
       "      <th>Census_FlightRing</th>\n",
       "      <th>HasDetections</th>\n",
       "    </tr>\n",
       "  </thead>\n",
       "  <tbody>\n",
       "    <tr>\n",
       "      <th>6414404</th>\n",
       "      <td>4.0</td>\n",
       "      <td>61.0</td>\n",
       "      <td>58.0</td>\n",
       "      <td>7538.0</td>\n",
       "      <td>0.0</td>\n",
       "      <td>1.0</td>\n",
       "      <td>0.0</td>\n",
       "      <td>2.0</td>\n",
       "      <td>6.0</td>\n",
       "      <td>2.0</td>\n",
       "      <td>...</td>\n",
       "      <td>0.0</td>\n",
       "      <td>3.0</td>\n",
       "      <td>14.0</td>\n",
       "      <td>14.0</td>\n",
       "      <td>2.0</td>\n",
       "      <td>5.0</td>\n",
       "      <td>1.0</td>\n",
       "      <td>4.0</td>\n",
       "      <td>5.0</td>\n",
       "      <td>1.0</td>\n",
       "    </tr>\n",
       "    <tr>\n",
       "      <th>618844</th>\n",
       "      <td>4.0</td>\n",
       "      <td>58.0</td>\n",
       "      <td>39.0</td>\n",
       "      <td>6882.0</td>\n",
       "      <td>0.0</td>\n",
       "      <td>1.0</td>\n",
       "      <td>0.0</td>\n",
       "      <td>3.0</td>\n",
       "      <td>4.0</td>\n",
       "      <td>8.0</td>\n",
       "      <td>...</td>\n",
       "      <td>0.0</td>\n",
       "      <td>5.0</td>\n",
       "      <td>2.0</td>\n",
       "      <td>2.0</td>\n",
       "      <td>8.0</td>\n",
       "      <td>5.0</td>\n",
       "      <td>1.0</td>\n",
       "      <td>2.0</td>\n",
       "      <td>5.0</td>\n",
       "      <td>0.0</td>\n",
       "    </tr>\n",
       "    <tr>\n",
       "      <th>2605303</th>\n",
       "      <td>4.0</td>\n",
       "      <td>62.0</td>\n",
       "      <td>58.0</td>\n",
       "      <td>8084.0</td>\n",
       "      <td>0.0</td>\n",
       "      <td>1.0</td>\n",
       "      <td>0.0</td>\n",
       "      <td>4.0</td>\n",
       "      <td>6.0</td>\n",
       "      <td>2.0</td>\n",
       "      <td>...</td>\n",
       "      <td>0.0</td>\n",
       "      <td>7.0</td>\n",
       "      <td>14.0</td>\n",
       "      <td>14.0</td>\n",
       "      <td>6.0</td>\n",
       "      <td>2.0</td>\n",
       "      <td>1.0</td>\n",
       "      <td>0.0</td>\n",
       "      <td>5.0</td>\n",
       "      <td>1.0</td>\n",
       "    </tr>\n",
       "    <tr>\n",
       "      <th>5803051</th>\n",
       "      <td>4.0</td>\n",
       "      <td>61.0</td>\n",
       "      <td>52.0</td>\n",
       "      <td>7719.0</td>\n",
       "      <td>0.0</td>\n",
       "      <td>1.0</td>\n",
       "      <td>0.0</td>\n",
       "      <td>3.0</td>\n",
       "      <td>6.0</td>\n",
       "      <td>8.0</td>\n",
       "      <td>...</td>\n",
       "      <td>0.0</td>\n",
       "      <td>5.0</td>\n",
       "      <td>14.0</td>\n",
       "      <td>14.0</td>\n",
       "      <td>7.0</td>\n",
       "      <td>5.0</td>\n",
       "      <td>0.0</td>\n",
       "      <td>2.0</td>\n",
       "      <td>5.0</td>\n",
       "      <td>1.0</td>\n",
       "    </tr>\n",
       "    <tr>\n",
       "      <th>2940637</th>\n",
       "      <td>4.0</td>\n",
       "      <td>62.0</td>\n",
       "      <td>58.0</td>\n",
       "      <td>7915.0</td>\n",
       "      <td>0.0</td>\n",
       "      <td>1.0</td>\n",
       "      <td>0.0</td>\n",
       "      <td>4.0</td>\n",
       "      <td>6.0</td>\n",
       "      <td>2.0</td>\n",
       "      <td>...</td>\n",
       "      <td>0.0</td>\n",
       "      <td>7.0</td>\n",
       "      <td>14.0</td>\n",
       "      <td>14.0</td>\n",
       "      <td>2.0</td>\n",
       "      <td>2.0</td>\n",
       "      <td>1.0</td>\n",
       "      <td>5.0</td>\n",
       "      <td>5.0</td>\n",
       "      <td>1.0</td>\n",
       "    </tr>\n",
       "    <tr>\n",
       "      <th>...</th>\n",
       "      <td>...</td>\n",
       "      <td>...</td>\n",
       "      <td>...</td>\n",
       "      <td>...</td>\n",
       "      <td>...</td>\n",
       "      <td>...</td>\n",
       "      <td>...</td>\n",
       "      <td>...</td>\n",
       "      <td>...</td>\n",
       "      <td>...</td>\n",
       "      <td>...</td>\n",
       "      <td>...</td>\n",
       "      <td>...</td>\n",
       "      <td>...</td>\n",
       "      <td>...</td>\n",
       "      <td>...</td>\n",
       "      <td>...</td>\n",
       "      <td>...</td>\n",
       "      <td>...</td>\n",
       "      <td>...</td>\n",
       "      <td>...</td>\n",
       "    </tr>\n",
       "    <tr>\n",
       "      <th>6129021</th>\n",
       "      <td>4.0</td>\n",
       "      <td>61.0</td>\n",
       "      <td>58.0</td>\n",
       "      <td>7813.0</td>\n",
       "      <td>0.0</td>\n",
       "      <td>1.0</td>\n",
       "      <td>0.0</td>\n",
       "      <td>4.0</td>\n",
       "      <td>4.0</td>\n",
       "      <td>2.0</td>\n",
       "      <td>...</td>\n",
       "      <td>0.0</td>\n",
       "      <td>7.0</td>\n",
       "      <td>2.0</td>\n",
       "      <td>2.0</td>\n",
       "      <td>5.0</td>\n",
       "      <td>2.0</td>\n",
       "      <td>0.0</td>\n",
       "      <td>2.0</td>\n",
       "      <td>5.0</td>\n",
       "      <td>1.0</td>\n",
       "    </tr>\n",
       "    <tr>\n",
       "      <th>3885613</th>\n",
       "      <td>4.0</td>\n",
       "      <td>62.0</td>\n",
       "      <td>58.0</td>\n",
       "      <td>8193.0</td>\n",
       "      <td>0.0</td>\n",
       "      <td>1.0</td>\n",
       "      <td>0.0</td>\n",
       "      <td>1.0</td>\n",
       "      <td>4.0</td>\n",
       "      <td>8.0</td>\n",
       "      <td>...</td>\n",
       "      <td>0.0</td>\n",
       "      <td>0.0</td>\n",
       "      <td>5.0</td>\n",
       "      <td>5.0</td>\n",
       "      <td>7.0</td>\n",
       "      <td>2.0</td>\n",
       "      <td>1.0</td>\n",
       "      <td>2.0</td>\n",
       "      <td>5.0</td>\n",
       "      <td>0.0</td>\n",
       "    </tr>\n",
       "    <tr>\n",
       "      <th>4427320</th>\n",
       "      <td>4.0</td>\n",
       "      <td>62.0</td>\n",
       "      <td>26.0</td>\n",
       "      <td>7600.0</td>\n",
       "      <td>0.0</td>\n",
       "      <td>1.0</td>\n",
       "      <td>0.0</td>\n",
       "      <td>4.0</td>\n",
       "      <td>4.0</td>\n",
       "      <td>8.0</td>\n",
       "      <td>...</td>\n",
       "      <td>0.0</td>\n",
       "      <td>7.0</td>\n",
       "      <td>5.0</td>\n",
       "      <td>5.0</td>\n",
       "      <td>2.0</td>\n",
       "      <td>5.0</td>\n",
       "      <td>1.0</td>\n",
       "      <td>2.0</td>\n",
       "      <td>5.0</td>\n",
       "      <td>1.0</td>\n",
       "    </tr>\n",
       "    <tr>\n",
       "      <th>7236256</th>\n",
       "      <td>4.0</td>\n",
       "      <td>61.0</td>\n",
       "      <td>58.0</td>\n",
       "      <td>7809.0</td>\n",
       "      <td>0.0</td>\n",
       "      <td>1.0</td>\n",
       "      <td>0.0</td>\n",
       "      <td>2.0</td>\n",
       "      <td>4.0</td>\n",
       "      <td>8.0</td>\n",
       "      <td>...</td>\n",
       "      <td>0.0</td>\n",
       "      <td>3.0</td>\n",
       "      <td>5.0</td>\n",
       "      <td>5.0</td>\n",
       "      <td>5.0</td>\n",
       "      <td>5.0</td>\n",
       "      <td>1.0</td>\n",
       "      <td>0.0</td>\n",
       "      <td>5.0</td>\n",
       "      <td>1.0</td>\n",
       "    </tr>\n",
       "    <tr>\n",
       "      <th>4776232</th>\n",
       "      <td>4.0</td>\n",
       "      <td>61.0</td>\n",
       "      <td>58.0</td>\n",
       "      <td>7435.0</td>\n",
       "      <td>0.0</td>\n",
       "      <td>2.0</td>\n",
       "      <td>0.0</td>\n",
       "      <td>4.0</td>\n",
       "      <td>6.0</td>\n",
       "      <td>2.0</td>\n",
       "      <td>...</td>\n",
       "      <td>2.0</td>\n",
       "      <td>7.0</td>\n",
       "      <td>14.0</td>\n",
       "      <td>14.0</td>\n",
       "      <td>8.0</td>\n",
       "      <td>3.0</td>\n",
       "      <td>1.0</td>\n",
       "      <td>2.0</td>\n",
       "      <td>6.0</td>\n",
       "      <td>0.0</td>\n",
       "    </tr>\n",
       "  </tbody>\n",
       "</table>\n",
       "<p>4460742 rows × 22 columns</p>\n",
       "</div>"
      ],
      "text/plain": [
       "         ProductName  EngineVersion  AppVersion  AvSigVersion  Platform  \\\n",
       "6414404          4.0           61.0        58.0        7538.0       0.0   \n",
       "618844           4.0           58.0        39.0        6882.0       0.0   \n",
       "2605303          4.0           62.0        58.0        8084.0       0.0   \n",
       "5803051          4.0           61.0        52.0        7719.0       0.0   \n",
       "2940637          4.0           62.0        58.0        7915.0       0.0   \n",
       "...              ...            ...         ...           ...       ...   \n",
       "6129021          4.0           61.0        58.0        7813.0       0.0   \n",
       "3885613          4.0           62.0        58.0        8193.0       0.0   \n",
       "4427320          4.0           62.0        26.0        7600.0       0.0   \n",
       "7236256          4.0           61.0        58.0        7809.0       0.0   \n",
       "4776232          4.0           61.0        58.0        7435.0       0.0   \n",
       "\n",
       "         Processor  OsVer  OsPlatformSubRelease  SkuEdition  \\\n",
       "6414404        1.0    0.0                   2.0         6.0   \n",
       "618844         1.0    0.0                   3.0         4.0   \n",
       "2605303        1.0    0.0                   4.0         6.0   \n",
       "5803051        1.0    0.0                   3.0         6.0   \n",
       "2940637        1.0    0.0                   4.0         6.0   \n",
       "...            ...    ...                   ...         ...   \n",
       "6129021        1.0    0.0                   4.0         4.0   \n",
       "3885613        1.0    0.0                   1.0         4.0   \n",
       "4427320        1.0    0.0                   4.0         4.0   \n",
       "7236256        1.0    0.0                   2.0         4.0   \n",
       "4776232        2.0    0.0                   4.0         6.0   \n",
       "\n",
       "         Census_MDC2FormFactor  ...  Census_OSArchitecture  Census_OSBranch  \\\n",
       "6414404                    2.0  ...                    0.0              3.0   \n",
       "618844                     8.0  ...                    0.0              5.0   \n",
       "2605303                    2.0  ...                    0.0              7.0   \n",
       "5803051                    8.0  ...                    0.0              5.0   \n",
       "2940637                    2.0  ...                    0.0              7.0   \n",
       "...                        ...  ...                    ...              ...   \n",
       "6129021                    2.0  ...                    0.0              7.0   \n",
       "3885613                    8.0  ...                    0.0              0.0   \n",
       "4427320                    8.0  ...                    0.0              7.0   \n",
       "7236256                    8.0  ...                    0.0              3.0   \n",
       "4776232                    2.0  ...                    2.0              7.0   \n",
       "\n",
       "         Census_OSEdition  Census_OSSkuName  Census_OSInstallTypeName  \\\n",
       "6414404              14.0              14.0                       2.0   \n",
       "618844                2.0               2.0                       8.0   \n",
       "2605303              14.0              14.0                       6.0   \n",
       "5803051              14.0              14.0                       7.0   \n",
       "2940637              14.0              14.0                       2.0   \n",
       "...                   ...               ...                       ...   \n",
       "6129021               2.0               2.0                       5.0   \n",
       "3885613               5.0               5.0                       7.0   \n",
       "4427320               5.0               5.0                       2.0   \n",
       "7236256               5.0               5.0                       5.0   \n",
       "4776232              14.0              14.0                       8.0   \n",
       "\n",
       "         Census_OSWUAutoUpdateOptionsName  Census_GenuineStateName  \\\n",
       "6414404                               5.0                      1.0   \n",
       "618844                                5.0                      1.0   \n",
       "2605303                               2.0                      1.0   \n",
       "5803051                               5.0                      0.0   \n",
       "2940637                               2.0                      1.0   \n",
       "...                                   ...                      ...   \n",
       "6129021                               2.0                      0.0   \n",
       "3885613                               2.0                      1.0   \n",
       "4427320                               5.0                      1.0   \n",
       "7236256                               5.0                      1.0   \n",
       "4776232                               3.0                      1.0   \n",
       "\n",
       "         Census_ActivationChannel  Census_FlightRing  HasDetections  \n",
       "6414404                       4.0                5.0            1.0  \n",
       "618844                        2.0                5.0            0.0  \n",
       "2605303                       0.0                5.0            1.0  \n",
       "5803051                       2.0                5.0            1.0  \n",
       "2940637                       5.0                5.0            1.0  \n",
       "...                           ...                ...            ...  \n",
       "6129021                       2.0                5.0            1.0  \n",
       "3885613                       2.0                5.0            0.0  \n",
       "4427320                       2.0                5.0            1.0  \n",
       "7236256                       0.0                5.0            1.0  \n",
       "4776232                       2.0                6.0            0.0  \n",
       "\n",
       "[4460742 rows x 22 columns]"
      ]
     },
     "execution_count": 19,
     "metadata": {},
     "output_type": "execute_result"
    }
   ],
   "source": [
    "encoder = OrdinalEncoder() #faça a troca das categorias por números\n",
    "\n",
    "train_reduze[object_cols] = encoder.fit_transform(train_reduze[object_cols]) #ltere somente as colunas categóricas do meu dataset\n",
    "train_reduze"
   ]
  },
  {
   "cell_type": "markdown",
   "id": "cb1ff244",
   "metadata": {
    "papermill": {
     "duration": 0.068907,
     "end_time": "2022-05-16T19:12:09.884580",
     "exception": false,
     "start_time": "2022-05-16T19:12:09.815673",
     "status": "completed"
    },
    "tags": []
   },
   "source": [
    "OUTLIERS"
   ]
  },
  {
   "cell_type": "code",
   "execution_count": 20,
   "id": "63df377d",
   "metadata": {
    "execution": {
     "iopub.execute_input": "2022-05-16T19:12:10.025948Z",
     "iopub.status.busy": "2022-05-16T19:12:10.025404Z",
     "iopub.status.idle": "2022-05-16T19:12:10.031732Z",
     "shell.execute_reply": "2022-05-16T19:12:10.030889Z"
    },
    "papermill": {
     "duration": 0.077892,
     "end_time": "2022-05-16T19:12:10.033623",
     "exception": false,
     "start_time": "2022-05-16T19:12:09.955731",
     "status": "completed"
    },
    "tags": []
   },
   "outputs": [
    {
     "data": {
      "text/plain": [
       "'z_scores = stats.zscore(df_train)\\n\\nabs_z_scores = np.abs(z_scores)\\nfiltered_entries = (abs_z_scores < 3).all(axis=1)\\ndf_train = df_train[filtered_entries]'"
      ]
     },
     "execution_count": 20,
     "metadata": {},
     "output_type": "execute_result"
    }
   ],
   "source": [
    "# removendo outliers\n",
    "# https://www.adamsmith.haus/python/answers/how-to-remove-outliers-from-a-pandas-dataframe-in-python\n",
    "\n",
    "'''z_scores = stats.zscore(df_train)\n",
    "\n",
    "abs_z_scores = np.abs(z_scores)\n",
    "filtered_entries = (abs_z_scores < 3).all(axis=1)\n",
    "df_train = df_train[filtered_entries]'''"
   ]
  },
  {
   "cell_type": "code",
   "execution_count": 21,
   "id": "22100390",
   "metadata": {
    "execution": {
     "iopub.execute_input": "2022-05-16T19:12:10.174588Z",
     "iopub.status.busy": "2022-05-16T19:12:10.174287Z",
     "iopub.status.idle": "2022-05-16T19:12:10.179003Z",
     "shell.execute_reply": "2022-05-16T19:12:10.177995Z"
    },
    "papermill": {
     "duration": 0.079166,
     "end_time": "2022-05-16T19:12:10.181157",
     "exception": false,
     "start_time": "2022-05-16T19:12:10.101991",
     "status": "completed"
    },
    "tags": []
   },
   "outputs": [],
   "source": [
    "#df_train.shape"
   ]
  },
  {
   "cell_type": "markdown",
   "id": "aed75836",
   "metadata": {
    "papermill": {
     "duration": 0.068624,
     "end_time": "2022-05-16T19:12:10.321266",
     "exception": false,
     "start_time": "2022-05-16T19:12:10.252642",
     "status": "completed"
    },
    "tags": []
   },
   "source": [
    "SPLIT"
   ]
  },
  {
   "cell_type": "code",
   "execution_count": 22,
   "id": "566965ce",
   "metadata": {
    "execution": {
     "iopub.execute_input": "2022-05-16T19:12:10.459068Z",
     "iopub.status.busy": "2022-05-16T19:12:10.458795Z",
     "iopub.status.idle": "2022-05-16T19:12:10.462784Z",
     "shell.execute_reply": "2022-05-16T19:12:10.462186Z"
    },
    "papermill": {
     "duration": 0.076435,
     "end_time": "2022-05-16T19:12:10.465679",
     "exception": false,
     "start_time": "2022-05-16T19:12:10.389244",
     "status": "completed"
    },
    "tags": []
   },
   "outputs": [
    {
     "name": "stdout",
     "output_type": "stream",
     "text": [
      "['ProductName', 'EngineVersion', 'AppVersion', 'AvSigVersion', 'Platform', 'Processor', 'OsVer', 'OsPlatformSubRelease', 'SkuEdition', 'Census_MDC2FormFactor', 'Census_DeviceFamily', 'Census_OSVersion', 'Census_OSArchitecture', 'Census_OSBranch', 'Census_OSEdition', 'Census_OSSkuName', 'Census_OSInstallTypeName', 'Census_OSWUAutoUpdateOptionsName', 'Census_GenuineStateName', 'Census_ActivationChannel', 'Census_FlightRing', 'HasDetections']\n"
     ]
    }
   ],
   "source": [
    "print(list(train_reduze.columns))"
   ]
  },
  {
   "cell_type": "code",
   "execution_count": 23,
   "id": "a3897147",
   "metadata": {
    "execution": {
     "iopub.execute_input": "2022-05-16T19:12:10.605270Z",
     "iopub.status.busy": "2022-05-16T19:12:10.605002Z",
     "iopub.status.idle": "2022-05-16T19:12:11.143120Z",
     "shell.execute_reply": "2022-05-16T19:12:11.142242Z"
    },
    "papermill": {
     "duration": 0.610784,
     "end_time": "2022-05-16T19:12:11.145661",
     "exception": false,
     "start_time": "2022-05-16T19:12:10.534877",
     "status": "completed"
    },
    "tags": []
   },
   "outputs": [],
   "source": [
    "y = train_reduze['HasDetections']\n",
    "\n",
    "X_features = ['ProductName', 'EngineVersion', 'AppVersion', 'AvSigVersion', 'Platform', 'Processor', \n",
    "              'OsVer', 'OsPlatformSubRelease', 'SkuEdition', 'Census_MDC2FormFactor', 'Census_DeviceFamily', 'Census_OSVersion', \n",
    "              'Census_OSArchitecture', 'Census_OSBranch', 'Census_OSEdition', 'Census_OSSkuName', 'Census_OSInstallTypeName', \n",
    "              'Census_OSWUAutoUpdateOptionsName', 'Census_GenuineStateName', 'Census_ActivationChannel', 'Census_FlightRing']\n",
    "X = train_reduze[X_features]"
   ]
  },
  {
   "cell_type": "code",
   "execution_count": 24,
   "id": "7f308dc7",
   "metadata": {
    "execution": {
     "iopub.execute_input": "2022-05-16T19:12:11.285911Z",
     "iopub.status.busy": "2022-05-16T19:12:11.285598Z",
     "iopub.status.idle": "2022-05-16T19:12:11.320042Z",
     "shell.execute_reply": "2022-05-16T19:12:11.319123Z"
    },
    "papermill": {
     "duration": 0.107919,
     "end_time": "2022-05-16T19:12:11.322293",
     "exception": false,
     "start_time": "2022-05-16T19:12:11.214374",
     "status": "completed"
    },
    "tags": []
   },
   "outputs": [
    {
     "data": {
      "text/html": [
       "<div>\n",
       "<style scoped>\n",
       "    .dataframe tbody tr th:only-of-type {\n",
       "        vertical-align: middle;\n",
       "    }\n",
       "\n",
       "    .dataframe tbody tr th {\n",
       "        vertical-align: top;\n",
       "    }\n",
       "\n",
       "    .dataframe thead th {\n",
       "        text-align: right;\n",
       "    }\n",
       "</style>\n",
       "<table border=\"1\" class=\"dataframe\">\n",
       "  <thead>\n",
       "    <tr style=\"text-align: right;\">\n",
       "      <th></th>\n",
       "      <th>ProductName</th>\n",
       "      <th>EngineVersion</th>\n",
       "      <th>AppVersion</th>\n",
       "      <th>AvSigVersion</th>\n",
       "      <th>Platform</th>\n",
       "      <th>Processor</th>\n",
       "      <th>OsVer</th>\n",
       "      <th>OsPlatformSubRelease</th>\n",
       "      <th>SkuEdition</th>\n",
       "      <th>Census_MDC2FormFactor</th>\n",
       "      <th>...</th>\n",
       "      <th>Census_OSVersion</th>\n",
       "      <th>Census_OSArchitecture</th>\n",
       "      <th>Census_OSBranch</th>\n",
       "      <th>Census_OSEdition</th>\n",
       "      <th>Census_OSSkuName</th>\n",
       "      <th>Census_OSInstallTypeName</th>\n",
       "      <th>Census_OSWUAutoUpdateOptionsName</th>\n",
       "      <th>Census_GenuineStateName</th>\n",
       "      <th>Census_ActivationChannel</th>\n",
       "      <th>Census_FlightRing</th>\n",
       "    </tr>\n",
       "  </thead>\n",
       "  <tbody>\n",
       "    <tr>\n",
       "      <th>6414404</th>\n",
       "      <td>4.0</td>\n",
       "      <td>61.0</td>\n",
       "      <td>58.0</td>\n",
       "      <td>7538.0</td>\n",
       "      <td>0.0</td>\n",
       "      <td>1.0</td>\n",
       "      <td>0.0</td>\n",
       "      <td>2.0</td>\n",
       "      <td>6.0</td>\n",
       "      <td>2.0</td>\n",
       "      <td>...</td>\n",
       "      <td>231.0</td>\n",
       "      <td>0.0</td>\n",
       "      <td>3.0</td>\n",
       "      <td>14.0</td>\n",
       "      <td>14.0</td>\n",
       "      <td>2.0</td>\n",
       "      <td>5.0</td>\n",
       "      <td>1.0</td>\n",
       "      <td>4.0</td>\n",
       "      <td>5.0</td>\n",
       "    </tr>\n",
       "    <tr>\n",
       "      <th>618844</th>\n",
       "      <td>4.0</td>\n",
       "      <td>58.0</td>\n",
       "      <td>39.0</td>\n",
       "      <td>6882.0</td>\n",
       "      <td>0.0</td>\n",
       "      <td>1.0</td>\n",
       "      <td>0.0</td>\n",
       "      <td>3.0</td>\n",
       "      <td>4.0</td>\n",
       "      <td>8.0</td>\n",
       "      <td>...</td>\n",
       "      <td>294.0</td>\n",
       "      <td>0.0</td>\n",
       "      <td>5.0</td>\n",
       "      <td>2.0</td>\n",
       "      <td>2.0</td>\n",
       "      <td>8.0</td>\n",
       "      <td>5.0</td>\n",
       "      <td>1.0</td>\n",
       "      <td>2.0</td>\n",
       "      <td>5.0</td>\n",
       "    </tr>\n",
       "    <tr>\n",
       "      <th>2605303</th>\n",
       "      <td>4.0</td>\n",
       "      <td>62.0</td>\n",
       "      <td>58.0</td>\n",
       "      <td>8084.0</td>\n",
       "      <td>0.0</td>\n",
       "      <td>1.0</td>\n",
       "      <td>0.0</td>\n",
       "      <td>4.0</td>\n",
       "      <td>6.0</td>\n",
       "      <td>2.0</td>\n",
       "      <td>...</td>\n",
       "      <td>335.0</td>\n",
       "      <td>0.0</td>\n",
       "      <td>7.0</td>\n",
       "      <td>14.0</td>\n",
       "      <td>14.0</td>\n",
       "      <td>6.0</td>\n",
       "      <td>2.0</td>\n",
       "      <td>1.0</td>\n",
       "      <td>0.0</td>\n",
       "      <td>5.0</td>\n",
       "    </tr>\n",
       "    <tr>\n",
       "      <th>5803051</th>\n",
       "      <td>4.0</td>\n",
       "      <td>61.0</td>\n",
       "      <td>52.0</td>\n",
       "      <td>7719.0</td>\n",
       "      <td>0.0</td>\n",
       "      <td>1.0</td>\n",
       "      <td>0.0</td>\n",
       "      <td>3.0</td>\n",
       "      <td>6.0</td>\n",
       "      <td>8.0</td>\n",
       "      <td>...</td>\n",
       "      <td>294.0</td>\n",
       "      <td>0.0</td>\n",
       "      <td>5.0</td>\n",
       "      <td>14.0</td>\n",
       "      <td>14.0</td>\n",
       "      <td>7.0</td>\n",
       "      <td>5.0</td>\n",
       "      <td>0.0</td>\n",
       "      <td>2.0</td>\n",
       "      <td>5.0</td>\n",
       "    </tr>\n",
       "    <tr>\n",
       "      <th>2940637</th>\n",
       "      <td>4.0</td>\n",
       "      <td>62.0</td>\n",
       "      <td>58.0</td>\n",
       "      <td>7915.0</td>\n",
       "      <td>0.0</td>\n",
       "      <td>1.0</td>\n",
       "      <td>0.0</td>\n",
       "      <td>4.0</td>\n",
       "      <td>6.0</td>\n",
       "      <td>2.0</td>\n",
       "      <td>...</td>\n",
       "      <td>335.0</td>\n",
       "      <td>0.0</td>\n",
       "      <td>7.0</td>\n",
       "      <td>14.0</td>\n",
       "      <td>14.0</td>\n",
       "      <td>2.0</td>\n",
       "      <td>2.0</td>\n",
       "      <td>1.0</td>\n",
       "      <td>5.0</td>\n",
       "      <td>5.0</td>\n",
       "    </tr>\n",
       "  </tbody>\n",
       "</table>\n",
       "<p>5 rows × 21 columns</p>\n",
       "</div>"
      ],
      "text/plain": [
       "         ProductName  EngineVersion  AppVersion  AvSigVersion  Platform  \\\n",
       "6414404          4.0           61.0        58.0        7538.0       0.0   \n",
       "618844           4.0           58.0        39.0        6882.0       0.0   \n",
       "2605303          4.0           62.0        58.0        8084.0       0.0   \n",
       "5803051          4.0           61.0        52.0        7719.0       0.0   \n",
       "2940637          4.0           62.0        58.0        7915.0       0.0   \n",
       "\n",
       "         Processor  OsVer  OsPlatformSubRelease  SkuEdition  \\\n",
       "6414404        1.0    0.0                   2.0         6.0   \n",
       "618844         1.0    0.0                   3.0         4.0   \n",
       "2605303        1.0    0.0                   4.0         6.0   \n",
       "5803051        1.0    0.0                   3.0         6.0   \n",
       "2940637        1.0    0.0                   4.0         6.0   \n",
       "\n",
       "         Census_MDC2FormFactor  ...  Census_OSVersion  Census_OSArchitecture  \\\n",
       "6414404                    2.0  ...             231.0                    0.0   \n",
       "618844                     8.0  ...             294.0                    0.0   \n",
       "2605303                    2.0  ...             335.0                    0.0   \n",
       "5803051                    8.0  ...             294.0                    0.0   \n",
       "2940637                    2.0  ...             335.0                    0.0   \n",
       "\n",
       "         Census_OSBranch  Census_OSEdition  Census_OSSkuName  \\\n",
       "6414404              3.0              14.0              14.0   \n",
       "618844               5.0               2.0               2.0   \n",
       "2605303              7.0              14.0              14.0   \n",
       "5803051              5.0              14.0              14.0   \n",
       "2940637              7.0              14.0              14.0   \n",
       "\n",
       "         Census_OSInstallTypeName  Census_OSWUAutoUpdateOptionsName  \\\n",
       "6414404                       2.0                               5.0   \n",
       "618844                        8.0                               5.0   \n",
       "2605303                       6.0                               2.0   \n",
       "5803051                       7.0                               5.0   \n",
       "2940637                       2.0                               2.0   \n",
       "\n",
       "         Census_GenuineStateName  Census_ActivationChannel  Census_FlightRing  \n",
       "6414404                      1.0                       4.0                5.0  \n",
       "618844                       1.0                       2.0                5.0  \n",
       "2605303                      1.0                       0.0                5.0  \n",
       "5803051                      0.0                       2.0                5.0  \n",
       "2940637                      1.0                       5.0                5.0  \n",
       "\n",
       "[5 rows x 21 columns]"
      ]
     },
     "execution_count": 24,
     "metadata": {},
     "output_type": "execute_result"
    }
   ],
   "source": [
    "X.head()"
   ]
  },
  {
   "cell_type": "code",
   "execution_count": 25,
   "id": "49b09c70",
   "metadata": {
    "execution": {
     "iopub.execute_input": "2022-05-16T19:12:11.463815Z",
     "iopub.status.busy": "2022-05-16T19:12:11.463518Z",
     "iopub.status.idle": "2022-05-16T19:12:15.579327Z",
     "shell.execute_reply": "2022-05-16T19:12:15.578490Z"
    },
    "papermill": {
     "duration": 4.188803,
     "end_time": "2022-05-16T19:12:15.581572",
     "exception": false,
     "start_time": "2022-05-16T19:12:11.392769",
     "status": "completed"
    },
    "tags": []
   },
   "outputs": [
    {
     "data": {
      "text/plain": [
       "(1338223, 21)"
      ]
     },
     "execution_count": 25,
     "metadata": {},
     "output_type": "execute_result"
    }
   ],
   "source": [
    "from sklearn.model_selection import train_test_split\n",
    "\n",
    "\n",
    "trainX, valX, trainy, valy = train_test_split(X, y,\n",
    "                                              test_size=0.3, \n",
    "                                              random_state=12,\n",
    "                                              stratify = y)\n",
    "valX.shape"
   ]
  },
  {
   "cell_type": "markdown",
   "id": "b04352ad",
   "metadata": {
    "papermill": {
     "duration": 0.069956,
     "end_time": "2022-05-16T19:12:15.722471",
     "exception": false,
     "start_time": "2022-05-16T19:12:15.652515",
     "status": "completed"
    },
    "tags": []
   },
   "source": [
    "NORMALIZAÇÃO"
   ]
  },
  {
   "cell_type": "code",
   "execution_count": 26,
   "id": "04d2bdf4",
   "metadata": {
    "execution": {
     "iopub.execute_input": "2022-05-16T19:12:15.866261Z",
     "iopub.status.busy": "2022-05-16T19:12:15.865337Z",
     "iopub.status.idle": "2022-05-16T19:12:16.723256Z",
     "shell.execute_reply": "2022-05-16T19:12:16.722328Z"
    },
    "papermill": {
     "duration": 0.932344,
     "end_time": "2022-05-16T19:12:16.725635",
     "exception": false,
     "start_time": "2022-05-16T19:12:15.793291",
     "status": "completed"
    },
    "tags": []
   },
   "outputs": [],
   "source": [
    "from sklearn.preprocessing import MinMaxScaler\n",
    "\n",
    "sc = MinMaxScaler(feature_range=(0, 1))\n",
    "\n",
    "trainX = sc.fit_transform(trainX)\n",
    "\n",
    "valX = sc.transform(valX)"
   ]
  },
  {
   "cell_type": "markdown",
   "id": "c2296e15",
   "metadata": {
    "papermill": {
     "duration": 0.069104,
     "end_time": "2022-05-16T19:12:16.866602",
     "exception": false,
     "start_time": "2022-05-16T19:12:16.797498",
     "status": "completed"
    },
    "tags": []
   },
   "source": [
    "Criando o modelo LGBM Classifier"
   ]
  },
  {
   "cell_type": "code",
   "execution_count": 27,
   "id": "eb9a0d79",
   "metadata": {
    "execution": {
     "iopub.execute_input": "2022-05-16T19:12:17.008490Z",
     "iopub.status.busy": "2022-05-16T19:12:17.008186Z",
     "iopub.status.idle": "2022-05-16T19:12:18.040922Z",
     "shell.execute_reply": "2022-05-16T19:12:18.040019Z"
    },
    "papermill": {
     "duration": 1.105704,
     "end_time": "2022-05-16T19:12:18.043259",
     "exception": false,
     "start_time": "2022-05-16T19:12:16.937555",
     "status": "completed"
    },
    "tags": []
   },
   "outputs": [
    {
     "data": {
      "text/html": [
       "<style type='text/css'>\n",
       ".datatable table.frame { margin-bottom: 0; }\n",
       ".datatable table.frame thead { border-bottom: none; }\n",
       ".datatable table.frame tr.coltypes td {  color: #FFFFFF;  line-height: 6px;  padding: 0 0.5em;}\n",
       ".datatable .bool    { background: #DDDD99; }\n",
       ".datatable .object  { background: #565656; }\n",
       ".datatable .int     { background: #5D9E5D; }\n",
       ".datatable .float   { background: #4040CC; }\n",
       ".datatable .str     { background: #CC4040; }\n",
       ".datatable .time    { background: #40CC40; }\n",
       ".datatable .row_index {  background: var(--jp-border-color3);  border-right: 1px solid var(--jp-border-color0);  color: var(--jp-ui-font-color3);  font-size: 9px;}\n",
       ".datatable .frame tbody td { text-align: left; }\n",
       ".datatable .frame tr.coltypes .row_index {  background: var(--jp-border-color0);}\n",
       ".datatable th:nth-child(2) { padding-left: 12px; }\n",
       ".datatable .hellipsis {  color: var(--jp-cell-editor-border-color);}\n",
       ".datatable .vellipsis {  background: var(--jp-layout-color0);  color: var(--jp-cell-editor-border-color);}\n",
       ".datatable .na {  color: var(--jp-cell-editor-border-color);  font-size: 80%;}\n",
       ".datatable .sp {  opacity: 0.25;}\n",
       ".datatable .footer { font-size: 9px; }\n",
       ".datatable .frame_dimensions {  background: var(--jp-border-color3);  border-top: 1px solid var(--jp-border-color0);  color: var(--jp-ui-font-color3);  display: inline-block;  opacity: 0.6;  padding: 1px 10px 1px 5px;}\n",
       "</style>\n"
      ],
      "text/plain": [
       "<IPython.core.display.HTML object>"
      ]
     },
     "metadata": {},
     "output_type": "display_data"
    },
    {
     "data": {
      "text/plain": [
       "lightgbm.sklearn.LGBMClassifier"
      ]
     },
     "execution_count": 27,
     "metadata": {},
     "output_type": "execute_result"
    }
   ],
   "source": [
    "import lightgbm as lgb\n",
    "\n",
    "model_lgb = lgb.LGBMClassifier(max_depth = 2)\n",
    "\n",
    "type(model_lgb)"
   ]
  },
  {
   "cell_type": "code",
   "execution_count": 28,
   "id": "8ac68133",
   "metadata": {
    "execution": {
     "iopub.execute_input": "2022-05-16T19:12:18.188523Z",
     "iopub.status.busy": "2022-05-16T19:12:18.187580Z",
     "iopub.status.idle": "2022-05-16T19:12:31.246434Z",
     "shell.execute_reply": "2022-05-16T19:12:31.245712Z"
    },
    "papermill": {
     "duration": 13.134403,
     "end_time": "2022-05-16T19:12:31.248739",
     "exception": false,
     "start_time": "2022-05-16T19:12:18.114336",
     "status": "completed"
    },
    "tags": []
   },
   "outputs": [
    {
     "data": {
      "text/plain": [
       "LGBMClassifier(max_depth=2)"
      ]
     },
     "execution_count": 28,
     "metadata": {},
     "output_type": "execute_result"
    }
   ],
   "source": [
    "model_lgb.fit(trainX, trainy)"
   ]
  },
  {
   "cell_type": "code",
   "execution_count": 29,
   "id": "7871923f",
   "metadata": {
    "execution": {
     "iopub.execute_input": "2022-05-16T19:12:31.393193Z",
     "iopub.status.busy": "2022-05-16T19:12:31.392758Z",
     "iopub.status.idle": "2022-05-16T19:12:33.117262Z",
     "shell.execute_reply": "2022-05-16T19:12:33.116404Z"
    },
    "papermill": {
     "duration": 1.798823,
     "end_time": "2022-05-16T19:12:33.119476",
     "exception": false,
     "start_time": "2022-05-16T19:12:31.320653",
     "status": "completed"
    },
    "tags": []
   },
   "outputs": [
    {
     "data": {
      "text/plain": [
       "array([1., 1., 1., ..., 1., 0., 1.], dtype=float16)"
      ]
     },
     "execution_count": 29,
     "metadata": {},
     "output_type": "execute_result"
    }
   ],
   "source": [
    "lgb_pred = model_lgb.predict(valX)\n",
    "lgb_pred"
   ]
  },
  {
   "cell_type": "markdown",
   "id": "ff1fca35",
   "metadata": {
    "papermill": {
     "duration": 0.070917,
     "end_time": "2022-05-16T19:12:33.262021",
     "exception": false,
     "start_time": "2022-05-16T19:12:33.191104",
     "status": "completed"
    },
    "tags": []
   },
   "source": [
    "lightgbm - DART: Dropouts meet Multiple Additive Regression Trees"
   ]
  },
  {
   "cell_type": "code",
   "execution_count": 30,
   "id": "66aade98",
   "metadata": {
    "execution": {
     "iopub.execute_input": "2022-05-16T19:12:33.406328Z",
     "iopub.status.busy": "2022-05-16T19:12:33.405923Z",
     "iopub.status.idle": "2022-05-16T19:12:33.409196Z",
     "shell.execute_reply": "2022-05-16T19:12:33.408604Z"
    },
    "papermill": {
     "duration": 0.07748,
     "end_time": "2022-05-16T19:12:33.410989",
     "exception": false,
     "start_time": "2022-05-16T19:12:33.333509",
     "status": "completed"
    },
    "tags": []
   },
   "outputs": [],
   "source": [
    "lgb_dart = lgb.LGBMClassifier(booster = 'dart')"
   ]
  },
  {
   "cell_type": "code",
   "execution_count": 31,
   "id": "448143c4",
   "metadata": {
    "execution": {
     "iopub.execute_input": "2022-05-16T19:12:33.554853Z",
     "iopub.status.busy": "2022-05-16T19:12:33.554443Z",
     "iopub.status.idle": "2022-05-16T19:12:53.733769Z",
     "shell.execute_reply": "2022-05-16T19:12:53.732940Z"
    },
    "papermill": {
     "duration": 20.254094,
     "end_time": "2022-05-16T19:12:53.736344",
     "exception": false,
     "start_time": "2022-05-16T19:12:33.482250",
     "status": "completed"
    },
    "tags": []
   },
   "outputs": [
    {
     "name": "stdout",
     "output_type": "stream",
     "text": [
      "[LightGBM] [Warning] Unknown parameter: booster\n"
     ]
    },
    {
     "data": {
      "text/plain": [
       "LGBMClassifier(booster='dart')"
      ]
     },
     "execution_count": 31,
     "metadata": {},
     "output_type": "execute_result"
    }
   ],
   "source": [
    "lgb_dart.fit(trainX, trainy)"
   ]
  },
  {
   "cell_type": "code",
   "execution_count": 32,
   "id": "5989747f",
   "metadata": {
    "execution": {
     "iopub.execute_input": "2022-05-16T19:12:53.887220Z",
     "iopub.status.busy": "2022-05-16T19:12:53.886310Z",
     "iopub.status.idle": "2022-05-16T19:12:57.988160Z",
     "shell.execute_reply": "2022-05-16T19:12:57.987150Z"
    },
    "papermill": {
     "duration": 4.178354,
     "end_time": "2022-05-16T19:12:57.990394",
     "exception": false,
     "start_time": "2022-05-16T19:12:53.812040",
     "status": "completed"
    },
    "tags": []
   },
   "outputs": [
    {
     "data": {
      "text/plain": [
       "array([1., 1., 1., ..., 1., 0., 1.], dtype=float16)"
      ]
     },
     "execution_count": 32,
     "metadata": {},
     "output_type": "execute_result"
    }
   ],
   "source": [
    "dart_pred = lgb_dart.predict(valX)\n",
    "dart_pred"
   ]
  },
  {
   "cell_type": "markdown",
   "id": "0299f635",
   "metadata": {
    "papermill": {
     "duration": 0.072485,
     "end_time": "2022-05-16T19:12:58.135706",
     "exception": false,
     "start_time": "2022-05-16T19:12:58.063221",
     "status": "completed"
    },
    "tags": []
   },
   "source": [
    "## MODELO Extreme Gradient Boosting"
   ]
  },
  {
   "cell_type": "code",
   "execution_count": 33,
   "id": "bd8cd0e8",
   "metadata": {
    "execution": {
     "iopub.execute_input": "2022-05-16T19:12:58.282204Z",
     "iopub.status.busy": "2022-05-16T19:12:58.281692Z",
     "iopub.status.idle": "2022-05-16T19:12:58.285384Z",
     "shell.execute_reply": "2022-05-16T19:12:58.284392Z"
    },
    "papermill": {
     "duration": 0.079245,
     "end_time": "2022-05-16T19:12:58.287494",
     "exception": false,
     "start_time": "2022-05-16T19:12:58.208249",
     "status": "completed"
    },
    "tags": []
   },
   "outputs": [],
   "source": [
    "#Extreme Gradient Boosting\n",
    "\n",
    "#xgb_clf = XGBClassifier()\n",
    "#xgb_clf.fit(trainX, trainy)"
   ]
  },
  {
   "cell_type": "code",
   "execution_count": 34,
   "id": "19a7377f",
   "metadata": {
    "execution": {
     "iopub.execute_input": "2022-05-16T19:12:58.433282Z",
     "iopub.status.busy": "2022-05-16T19:12:58.432645Z",
     "iopub.status.idle": "2022-05-16T19:12:58.436440Z",
     "shell.execute_reply": "2022-05-16T19:12:58.435610Z"
    },
    "papermill": {
     "duration": 0.078873,
     "end_time": "2022-05-16T19:12:58.438495",
     "exception": false,
     "start_time": "2022-05-16T19:12:58.359622",
     "status": "completed"
    },
    "tags": []
   },
   "outputs": [],
   "source": [
    "#predicao = xgb_clf.predict(valX)\n",
    "#predicao"
   ]
  },
  {
   "cell_type": "code",
   "execution_count": 35,
   "id": "496c3316",
   "metadata": {
    "execution": {
     "iopub.execute_input": "2022-05-16T19:12:58.584591Z",
     "iopub.status.busy": "2022-05-16T19:12:58.583937Z",
     "iopub.status.idle": "2022-05-16T19:12:58.589721Z",
     "shell.execute_reply": "2022-05-16T19:12:58.588865Z"
    },
    "papermill": {
     "duration": 0.081122,
     "end_time": "2022-05-16T19:12:58.591882",
     "exception": false,
     "start_time": "2022-05-16T19:12:58.510760",
     "status": "completed"
    },
    "tags": []
   },
   "outputs": [
    {
     "data": {
      "text/plain": [
       "'print(classification_report(valy, predicao))\\nprint(\"accuracy_score\", accuracy_score(valy, predicao))\\npredictions_probas = xgb_clf.predict_proba(valy)\\nprint(\"roc-auc score for the class 1, from target \\'HasDetections\\' \", roc_auc_score(valy, predictions_probas[:,1]))'"
      ]
     },
     "execution_count": 35,
     "metadata": {},
     "output_type": "execute_result"
    }
   ],
   "source": [
    "'''print(classification_report(valy, predicao))\n",
    "print(\"accuracy_score\", accuracy_score(valy, predicao))\n",
    "predictions_probas = xgb_clf.predict_proba(valy)\n",
    "print(\"roc-auc score for the class 1, from target 'HasDetections' \", roc_auc_score(valy, predictions_probas[:,1]))'''\n"
   ]
  },
  {
   "cell_type": "markdown",
   "id": "60a634ac",
   "metadata": {
    "papermill": {
     "duration": 0.073932,
     "end_time": "2022-05-16T19:12:58.738410",
     "exception": false,
     "start_time": "2022-05-16T19:12:58.664478",
     "status": "completed"
    },
    "tags": []
   },
   "source": [
    "## MODELO GradientBoostingClassifier"
   ]
  },
  {
   "cell_type": "code",
   "execution_count": 36,
   "id": "e9ac6170",
   "metadata": {
    "execution": {
     "iopub.execute_input": "2022-05-16T19:12:58.887757Z",
     "iopub.status.busy": "2022-05-16T19:12:58.887318Z",
     "iopub.status.idle": "2022-05-16T19:12:58.890133Z",
     "shell.execute_reply": "2022-05-16T19:12:58.889490Z"
    },
    "papermill": {
     "duration": 0.079656,
     "end_time": "2022-05-16T19:12:58.892286",
     "exception": false,
     "start_time": "2022-05-16T19:12:58.812630",
     "status": "completed"
    },
    "tags": []
   },
   "outputs": [],
   "source": [
    "#gb_clf = GradientBoostingClassifier(n_estimators = 200, learning_rate = 0.5, random_state = 42)\n",
    "#gb_clf.fit(trainX, trainy)"
   ]
  },
  {
   "cell_type": "code",
   "execution_count": 37,
   "id": "10fd1830",
   "metadata": {
    "execution": {
     "iopub.execute_input": "2022-05-16T19:12:59.039404Z",
     "iopub.status.busy": "2022-05-16T19:12:59.038993Z",
     "iopub.status.idle": "2022-05-16T19:12:59.041864Z",
     "shell.execute_reply": "2022-05-16T19:12:59.041214Z"
    },
    "papermill": {
     "duration": 0.078139,
     "end_time": "2022-05-16T19:12:59.043590",
     "exception": false,
     "start_time": "2022-05-16T19:12:58.965451",
     "status": "completed"
    },
    "tags": []
   },
   "outputs": [],
   "source": [
    "#predicao = gb_clf.predict(valX)\n",
    "#predicao"
   ]
  },
  {
   "cell_type": "markdown",
   "id": "e202b57b",
   "metadata": {
    "papermill": {
     "duration": 0.071932,
     "end_time": "2022-05-16T19:12:59.187817",
     "exception": false,
     "start_time": "2022-05-16T19:12:59.115885",
     "status": "completed"
    },
    "tags": []
   },
   "source": [
    "ALGORITMO BASELINE"
   ]
  },
  {
   "cell_type": "code",
   "execution_count": 38,
   "id": "3cfce729",
   "metadata": {
    "execution": {
     "iopub.execute_input": "2022-05-16T19:12:59.337241Z",
     "iopub.status.busy": "2022-05-16T19:12:59.336821Z",
     "iopub.status.idle": "2022-05-16T19:12:59.340527Z",
     "shell.execute_reply": "2022-05-16T19:12:59.339270Z"
    },
    "papermill": {
     "duration": 0.083793,
     "end_time": "2022-05-16T19:12:59.343773",
     "exception": false,
     "start_time": "2022-05-16T19:12:59.259980",
     "status": "completed"
    },
    "tags": []
   },
   "outputs": [],
   "source": [
    "#import numpy as np\n",
    "#previsoes_de_base = np.ones(540)\n",
    "#acuracia = accuracy_score(test_y, previsoes_de_base) * 100\n",
    "#print(\"A acurácia do algoritmo de baseline foi %.2f%%\" % acuracia)"
   ]
  },
  {
   "cell_type": "markdown",
   "id": "fcdc7b9d",
   "metadata": {
    "papermill": {
     "duration": 0.072077,
     "end_time": "2022-05-16T19:12:59.488403",
     "exception": false,
     "start_time": "2022-05-16T19:12:59.416326",
     "status": "completed"
    },
    "tags": []
   },
   "source": [
    "DADOS TESTE"
   ]
  },
  {
   "cell_type": "code",
   "execution_count": 39,
   "id": "0926ed33",
   "metadata": {
    "execution": {
     "iopub.execute_input": "2022-05-16T19:12:59.635304Z",
     "iopub.status.busy": "2022-05-16T19:12:59.634535Z",
     "iopub.status.idle": "2022-05-16T19:15:55.166554Z",
     "shell.execute_reply": "2022-05-16T19:15:55.165490Z"
    },
    "papermill": {
     "duration": 175.680682,
     "end_time": "2022-05-16T19:15:55.241625",
     "exception": false,
     "start_time": "2022-05-16T19:12:59.560943",
     "status": "completed"
    },
    "tags": []
   },
   "outputs": [
    {
     "data": {
      "text/plain": [
       "0"
      ]
     },
     "execution_count": 39,
     "metadata": {},
     "output_type": "execute_result"
    }
   ],
   "source": [
    "df_test = pd.read_csv('../input/microsoft-malware-prediction/test.csv', dtype=dtypes,low_memory=True)\n",
    "\n",
    "gc.collect()"
   ]
  },
  {
   "cell_type": "code",
   "execution_count": 40,
   "id": "beb6b962",
   "metadata": {
    "execution": {
     "iopub.execute_input": "2022-05-16T19:15:55.406449Z",
     "iopub.status.busy": "2022-05-16T19:15:55.406163Z",
     "iopub.status.idle": "2022-05-16T19:15:55.442225Z",
     "shell.execute_reply": "2022-05-16T19:15:55.441202Z"
    },
    "papermill": {
     "duration": 0.129846,
     "end_time": "2022-05-16T19:15:55.444322",
     "exception": false,
     "start_time": "2022-05-16T19:15:55.314476",
     "status": "completed"
    },
    "tags": []
   },
   "outputs": [
    {
     "data": {
      "text/html": [
       "<div>\n",
       "<style scoped>\n",
       "    .dataframe tbody tr th:only-of-type {\n",
       "        vertical-align: middle;\n",
       "    }\n",
       "\n",
       "    .dataframe tbody tr th {\n",
       "        vertical-align: top;\n",
       "    }\n",
       "\n",
       "    .dataframe thead th {\n",
       "        text-align: right;\n",
       "    }\n",
       "</style>\n",
       "<table border=\"1\" class=\"dataframe\">\n",
       "  <thead>\n",
       "    <tr style=\"text-align: right;\">\n",
       "      <th></th>\n",
       "      <th>MachineIdentifier</th>\n",
       "      <th>ProductName</th>\n",
       "      <th>EngineVersion</th>\n",
       "      <th>AppVersion</th>\n",
       "      <th>AvSigVersion</th>\n",
       "      <th>IsBeta</th>\n",
       "      <th>RtpStateBitfield</th>\n",
       "      <th>IsSxsPassiveMode</th>\n",
       "      <th>DefaultBrowsersIdentifier</th>\n",
       "      <th>AVProductStatesIdentifier</th>\n",
       "      <th>...</th>\n",
       "      <th>Census_FirmwareManufacturerIdentifier</th>\n",
       "      <th>Census_FirmwareVersionIdentifier</th>\n",
       "      <th>Census_IsSecureBootEnabled</th>\n",
       "      <th>Census_IsWIMBootEnabled</th>\n",
       "      <th>Census_IsVirtualDevice</th>\n",
       "      <th>Census_IsTouchEnabled</th>\n",
       "      <th>Census_IsPenCapable</th>\n",
       "      <th>Census_IsAlwaysOnAlwaysConnectedCapable</th>\n",
       "      <th>Wdft_IsGamer</th>\n",
       "      <th>Wdft_RegionIdentifier</th>\n",
       "    </tr>\n",
       "  </thead>\n",
       "  <tbody>\n",
       "    <tr>\n",
       "      <th>0</th>\n",
       "      <td>0000010489e3af074adeac69c53e555e</td>\n",
       "      <td>win8defender</td>\n",
       "      <td>1.1.15400.5</td>\n",
       "      <td>4.18.1810.5</td>\n",
       "      <td>1.281.501.0</td>\n",
       "      <td>0</td>\n",
       "      <td>7.0</td>\n",
       "      <td>0</td>\n",
       "      <td>NaN</td>\n",
       "      <td>53447.0</td>\n",
       "      <td>...</td>\n",
       "      <td>807.0</td>\n",
       "      <td>8554.0</td>\n",
       "      <td>1.0</td>\n",
       "      <td>NaN</td>\n",
       "      <td>0.0</td>\n",
       "      <td>0</td>\n",
       "      <td>0</td>\n",
       "      <td>0.0</td>\n",
       "      <td>0.0</td>\n",
       "      <td>7.0</td>\n",
       "    </tr>\n",
       "    <tr>\n",
       "      <th>1</th>\n",
       "      <td>00000176ac758d54827acd545b6315a5</td>\n",
       "      <td>win8defender</td>\n",
       "      <td>1.1.15400.4</td>\n",
       "      <td>4.18.1809.2</td>\n",
       "      <td>1.279.301.0</td>\n",
       "      <td>0</td>\n",
       "      <td>7.0</td>\n",
       "      <td>0</td>\n",
       "      <td>NaN</td>\n",
       "      <td>53447.0</td>\n",
       "      <td>...</td>\n",
       "      <td>554.0</td>\n",
       "      <td>33105.0</td>\n",
       "      <td>1.0</td>\n",
       "      <td>NaN</td>\n",
       "      <td>0.0</td>\n",
       "      <td>0</td>\n",
       "      <td>0</td>\n",
       "      <td>0.0</td>\n",
       "      <td>1.0</td>\n",
       "      <td>12.0</td>\n",
       "    </tr>\n",
       "    <tr>\n",
       "      <th>2</th>\n",
       "      <td>0000019dcefc128c2d4387c1273dae1d</td>\n",
       "      <td>win8defender</td>\n",
       "      <td>1.1.15300.6</td>\n",
       "      <td>4.18.1809.2</td>\n",
       "      <td>1.277.230.0</td>\n",
       "      <td>0</td>\n",
       "      <td>7.0</td>\n",
       "      <td>0</td>\n",
       "      <td>NaN</td>\n",
       "      <td>49480.0</td>\n",
       "      <td>...</td>\n",
       "      <td>556.0</td>\n",
       "      <td>63396.0</td>\n",
       "      <td>1.0</td>\n",
       "      <td>NaN</td>\n",
       "      <td>0.0</td>\n",
       "      <td>0</td>\n",
       "      <td>0</td>\n",
       "      <td>0.0</td>\n",
       "      <td>1.0</td>\n",
       "      <td>11.0</td>\n",
       "    </tr>\n",
       "    <tr>\n",
       "      <th>3</th>\n",
       "      <td>0000055553dc51b1295785415f1a224d</td>\n",
       "      <td>win8defender</td>\n",
       "      <td>1.1.15400.5</td>\n",
       "      <td>4.18.1810.5</td>\n",
       "      <td>1.281.664.0</td>\n",
       "      <td>0</td>\n",
       "      <td>7.0</td>\n",
       "      <td>0</td>\n",
       "      <td>NaN</td>\n",
       "      <td>42160.0</td>\n",
       "      <td>...</td>\n",
       "      <td>628.0</td>\n",
       "      <td>26320.0</td>\n",
       "      <td>1.0</td>\n",
       "      <td>0.0</td>\n",
       "      <td>0.0</td>\n",
       "      <td>0</td>\n",
       "      <td>0</td>\n",
       "      <td>0.0</td>\n",
       "      <td>0.0</td>\n",
       "      <td>10.0</td>\n",
       "    </tr>\n",
       "    <tr>\n",
       "      <th>4</th>\n",
       "      <td>00000574cefffeca83ec8adf9285b2bf</td>\n",
       "      <td>win8defender</td>\n",
       "      <td>1.1.15400.4</td>\n",
       "      <td>4.18.1809.2</td>\n",
       "      <td>1.279.236.0</td>\n",
       "      <td>0</td>\n",
       "      <td>7.0</td>\n",
       "      <td>0</td>\n",
       "      <td>NaN</td>\n",
       "      <td>53447.0</td>\n",
       "      <td>...</td>\n",
       "      <td>556.0</td>\n",
       "      <td>63269.0</td>\n",
       "      <td>1.0</td>\n",
       "      <td>NaN</td>\n",
       "      <td>0.0</td>\n",
       "      <td>0</td>\n",
       "      <td>0</td>\n",
       "      <td>0.0</td>\n",
       "      <td>1.0</td>\n",
       "      <td>3.0</td>\n",
       "    </tr>\n",
       "  </tbody>\n",
       "</table>\n",
       "<p>5 rows × 82 columns</p>\n",
       "</div>"
      ],
      "text/plain": [
       "                  MachineIdentifier   ProductName EngineVersion   AppVersion  \\\n",
       "0  0000010489e3af074adeac69c53e555e  win8defender   1.1.15400.5  4.18.1810.5   \n",
       "1  00000176ac758d54827acd545b6315a5  win8defender   1.1.15400.4  4.18.1809.2   \n",
       "2  0000019dcefc128c2d4387c1273dae1d  win8defender   1.1.15300.6  4.18.1809.2   \n",
       "3  0000055553dc51b1295785415f1a224d  win8defender   1.1.15400.5  4.18.1810.5   \n",
       "4  00000574cefffeca83ec8adf9285b2bf  win8defender   1.1.15400.4  4.18.1809.2   \n",
       "\n",
       "  AvSigVersion  IsBeta  RtpStateBitfield  IsSxsPassiveMode  \\\n",
       "0  1.281.501.0       0               7.0                 0   \n",
       "1  1.279.301.0       0               7.0                 0   \n",
       "2  1.277.230.0       0               7.0                 0   \n",
       "3  1.281.664.0       0               7.0                 0   \n",
       "4  1.279.236.0       0               7.0                 0   \n",
       "\n",
       "   DefaultBrowsersIdentifier  AVProductStatesIdentifier  ...  \\\n",
       "0                        NaN                    53447.0  ...   \n",
       "1                        NaN                    53447.0  ...   \n",
       "2                        NaN                    49480.0  ...   \n",
       "3                        NaN                    42160.0  ...   \n",
       "4                        NaN                    53447.0  ...   \n",
       "\n",
       "   Census_FirmwareManufacturerIdentifier  Census_FirmwareVersionIdentifier  \\\n",
       "0                                  807.0                            8554.0   \n",
       "1                                  554.0                           33105.0   \n",
       "2                                  556.0                           63396.0   \n",
       "3                                  628.0                           26320.0   \n",
       "4                                  556.0                           63269.0   \n",
       "\n",
       "   Census_IsSecureBootEnabled  Census_IsWIMBootEnabled  \\\n",
       "0                         1.0                      NaN   \n",
       "1                         1.0                      NaN   \n",
       "2                         1.0                      NaN   \n",
       "3                         1.0                      0.0   \n",
       "4                         1.0                      NaN   \n",
       "\n",
       "   Census_IsVirtualDevice  Census_IsTouchEnabled  Census_IsPenCapable  \\\n",
       "0                     0.0                      0                    0   \n",
       "1                     0.0                      0                    0   \n",
       "2                     0.0                      0                    0   \n",
       "3                     0.0                      0                    0   \n",
       "4                     0.0                      0                    0   \n",
       "\n",
       "   Census_IsAlwaysOnAlwaysConnectedCapable Wdft_IsGamer Wdft_RegionIdentifier  \n",
       "0                                      0.0          0.0                   7.0  \n",
       "1                                      0.0          1.0                  12.0  \n",
       "2                                      0.0          1.0                  11.0  \n",
       "3                                      0.0          0.0                  10.0  \n",
       "4                                      0.0          1.0                   3.0  \n",
       "\n",
       "[5 rows x 82 columns]"
      ]
     },
     "execution_count": 40,
     "metadata": {},
     "output_type": "execute_result"
    }
   ],
   "source": [
    "# retirando os espaços dos nomes das colunas\n",
    "Coluna_name=[]\n",
    "for i in df_test:\n",
    "    Coluna_name.append(i.strip()) \n",
    "df_test.columns = Coluna_name \n",
    "\n",
    "df_test.head()"
   ]
  },
  {
   "cell_type": "markdown",
   "id": "f325718c",
   "metadata": {
    "papermill": {
     "duration": 0.076419,
     "end_time": "2022-05-16T19:15:55.595020",
     "exception": false,
     "start_time": "2022-05-16T19:15:55.518601",
     "status": "completed"
    },
    "tags": []
   },
   "source": [
    "SALVANDO A COLUNA COM O ID"
   ]
  },
  {
   "cell_type": "code",
   "execution_count": 41,
   "id": "84de507e",
   "metadata": {
    "execution": {
     "iopub.execute_input": "2022-05-16T19:15:55.744797Z",
     "iopub.status.busy": "2022-05-16T19:15:55.744123Z",
     "iopub.status.idle": "2022-05-16T19:15:55.761345Z",
     "shell.execute_reply": "2022-05-16T19:15:55.760296Z"
    },
    "papermill": {
     "duration": 0.094298,
     "end_time": "2022-05-16T19:15:55.763273",
     "exception": false,
     "start_time": "2022-05-16T19:15:55.668975",
     "status": "completed"
    },
    "tags": []
   },
   "outputs": [
    {
     "data": {
      "text/html": [
       "<div>\n",
       "<style scoped>\n",
       "    .dataframe tbody tr th:only-of-type {\n",
       "        vertical-align: middle;\n",
       "    }\n",
       "\n",
       "    .dataframe tbody tr th {\n",
       "        vertical-align: top;\n",
       "    }\n",
       "\n",
       "    .dataframe thead th {\n",
       "        text-align: right;\n",
       "    }\n",
       "</style>\n",
       "<table border=\"1\" class=\"dataframe\">\n",
       "  <thead>\n",
       "    <tr style=\"text-align: right;\">\n",
       "      <th></th>\n",
       "      <th>MachineIdentifier</th>\n",
       "    </tr>\n",
       "  </thead>\n",
       "  <tbody>\n",
       "    <tr>\n",
       "      <th>0</th>\n",
       "      <td>0000010489e3af074adeac69c53e555e</td>\n",
       "    </tr>\n",
       "    <tr>\n",
       "      <th>1</th>\n",
       "      <td>00000176ac758d54827acd545b6315a5</td>\n",
       "    </tr>\n",
       "    <tr>\n",
       "      <th>2</th>\n",
       "      <td>0000019dcefc128c2d4387c1273dae1d</td>\n",
       "    </tr>\n",
       "    <tr>\n",
       "      <th>3</th>\n",
       "      <td>0000055553dc51b1295785415f1a224d</td>\n",
       "    </tr>\n",
       "    <tr>\n",
       "      <th>4</th>\n",
       "      <td>00000574cefffeca83ec8adf9285b2bf</td>\n",
       "    </tr>\n",
       "  </tbody>\n",
       "</table>\n",
       "</div>"
      ],
      "text/plain": [
       "                  MachineIdentifier\n",
       "0  0000010489e3af074adeac69c53e555e\n",
       "1  00000176ac758d54827acd545b6315a5\n",
       "2  0000019dcefc128c2d4387c1273dae1d\n",
       "3  0000055553dc51b1295785415f1a224d\n",
       "4  00000574cefffeca83ec8adf9285b2bf"
      ]
     },
     "execution_count": 41,
     "metadata": {},
     "output_type": "execute_result"
    }
   ],
   "source": [
    "sub_df = pd.DataFrame({\"MachineIdentifier\": df_test[\"MachineIdentifier\"]})\n",
    "sub_df.head()"
   ]
  },
  {
   "cell_type": "markdown",
   "id": "c4c2fe6d",
   "metadata": {
    "papermill": {
     "duration": 0.07523,
     "end_time": "2022-05-16T19:15:55.913979",
     "exception": false,
     "start_time": "2022-05-16T19:15:55.838749",
     "status": "completed"
    },
    "tags": []
   },
   "source": [
    "Excluindo colunas"
   ]
  },
  {
   "cell_type": "code",
   "execution_count": 42,
   "id": "bc99dc3a",
   "metadata": {
    "execution": {
     "iopub.execute_input": "2022-05-16T19:15:56.066930Z",
     "iopub.status.busy": "2022-05-16T19:15:56.066381Z",
     "iopub.status.idle": "2022-05-16T19:15:56.075729Z",
     "shell.execute_reply": "2022-05-16T19:15:56.075105Z"
    },
    "papermill": {
     "duration": 0.088743,
     "end_time": "2022-05-16T19:15:56.077691",
     "exception": false,
     "start_time": "2022-05-16T19:15:55.988948",
     "status": "completed"
    },
    "tags": []
   },
   "outputs": [],
   "source": [
    "df_test.drop(columns=['IsBeta','RtpStateBitfield','IsSxsPassiveMode','DefaultBrowsersIdentifier','AVProductStatesIdentifier',\n",
    "                       'AVProductsInstalled','AVProductsEnabled','HasTpm','CountryIdentifier','CityIdentifier',\n",
    "                       'OrganizationIdentifier','GeoNameIdentifier','LocaleEnglishNameIdentifier','OsBuild','OsSuite',\n",
    "                       'IsProtected','AutoSampleOptIn','SMode','IeVerIdentifier','Firewall','UacLuaenable',\n",
    "                       'Census_OEMNameIdentifier','Census_OEMModelIdentifier','Census_ProcessorCoreCount',\n",
    "                       'Census_ProcessorManufacturerIdentifier','Census_ProcessorModelIdentifier','Census_PrimaryDiskTotalCapacity',\n",
    "                       'Census_SystemVolumeTotalCapacity','Census_HasOpticalDiskDrive','Census_TotalPhysicalRAM','Census_InternalPrimaryDiagonalDisplaySizeInInches',\n",
    "                       'Census_InternalPrimaryDisplayResolutionHorizontal','Census_InternalPrimaryDisplayResolutionVertical',\n",
    "                       'Census_InternalBatteryNumberOfCharges','Census_OSBuildNumber','Census_OSBuildRevision','Census_OSInstallLanguageIdentifier',\n",
    "                       'Census_OSUILocaleIdentifier','Census_IsPortableOperatingSystem','Census_IsFlightingInternal','Census_IsFlightsDisabled',\n",
    "                       'Census_ThresholdOptIn','Census_FirmwareManufacturerIdentifier','Census_FirmwareVersionIdentifier','Census_IsSecureBootEnabled',\n",
    "                       'Census_IsWIMBootEnabled','Census_IsVirtualDevice','Census_IsTouchEnabled','Census_IsPenCapable',\n",
    "                       'Census_IsAlwaysOnAlwaysConnectedCapable','Wdft_IsGamer','Wdft_RegionIdentifier','PuaMode','SmartScreen',\n",
    "                       'Census_ProcessorClass','Census_PrimaryDiskTypeName','Census_ChassisTypeName','Census_PowerPlatformRoleName',\n",
    "                       'Census_InternalBatteryType','OsBuildLab', 'MachineIdentifier'], axis = 1,inplace = True)"
   ]
  },
  {
   "cell_type": "code",
   "execution_count": 43,
   "id": "6790e1ed",
   "metadata": {
    "execution": {
     "iopub.execute_input": "2022-05-16T19:15:56.227823Z",
     "iopub.status.busy": "2022-05-16T19:15:56.227205Z",
     "iopub.status.idle": "2022-05-16T19:15:56.234082Z",
     "shell.execute_reply": "2022-05-16T19:15:56.233494Z"
    },
    "papermill": {
     "duration": 0.084293,
     "end_time": "2022-05-16T19:15:56.236101",
     "exception": false,
     "start_time": "2022-05-16T19:15:56.151808",
     "status": "completed"
    },
    "tags": []
   },
   "outputs": [
    {
     "data": {
      "text/plain": [
       "['ProductName',\n",
       " 'EngineVersion',\n",
       " 'AppVersion',\n",
       " 'AvSigVersion',\n",
       " 'Platform',\n",
       " 'Processor',\n",
       " 'OsVer',\n",
       " 'OsPlatformSubRelease',\n",
       " 'SkuEdition',\n",
       " 'Census_MDC2FormFactor',\n",
       " 'Census_DeviceFamily',\n",
       " 'Census_OSVersion',\n",
       " 'Census_OSArchitecture',\n",
       " 'Census_OSBranch',\n",
       " 'Census_OSEdition',\n",
       " 'Census_OSSkuName',\n",
       " 'Census_OSInstallTypeName',\n",
       " 'Census_OSWUAutoUpdateOptionsName',\n",
       " 'Census_GenuineStateName',\n",
       " 'Census_ActivationChannel',\n",
       " 'Census_FlightRing']"
      ]
     },
     "execution_count": 43,
     "metadata": {},
     "output_type": "execute_result"
    }
   ],
   "source": [
    "obj = (df_test.dtypes == 'category') #quais colunas que são categóricas dentro do dataset?\n",
    "object_cols = list(obj[obj].index)\n",
    "\n",
    "object_cols"
   ]
  },
  {
   "cell_type": "code",
   "execution_count": 44,
   "id": "1acf14be",
   "metadata": {
    "execution": {
     "iopub.execute_input": "2022-05-16T19:15:56.395372Z",
     "iopub.status.busy": "2022-05-16T19:15:56.394337Z",
     "iopub.status.idle": "2022-05-16T19:17:02.783581Z",
     "shell.execute_reply": "2022-05-16T19:17:02.782643Z"
    },
    "papermill": {
     "duration": 66.547355,
     "end_time": "2022-05-16T19:17:02.861961",
     "exception": false,
     "start_time": "2022-05-16T19:15:56.314606",
     "status": "completed"
    },
    "tags": []
   },
   "outputs": [
    {
     "data": {
      "text/html": [
       "<div>\n",
       "<style scoped>\n",
       "    .dataframe tbody tr th:only-of-type {\n",
       "        vertical-align: middle;\n",
       "    }\n",
       "\n",
       "    .dataframe tbody tr th {\n",
       "        vertical-align: top;\n",
       "    }\n",
       "\n",
       "    .dataframe thead th {\n",
       "        text-align: right;\n",
       "    }\n",
       "</style>\n",
       "<table border=\"1\" class=\"dataframe\">\n",
       "  <thead>\n",
       "    <tr style=\"text-align: right;\">\n",
       "      <th></th>\n",
       "      <th>ProductName</th>\n",
       "      <th>EngineVersion</th>\n",
       "      <th>AppVersion</th>\n",
       "      <th>AvSigVersion</th>\n",
       "      <th>Platform</th>\n",
       "      <th>Processor</th>\n",
       "      <th>OsVer</th>\n",
       "      <th>OsPlatformSubRelease</th>\n",
       "      <th>SkuEdition</th>\n",
       "      <th>Census_MDC2FormFactor</th>\n",
       "      <th>...</th>\n",
       "      <th>Census_OSVersion</th>\n",
       "      <th>Census_OSArchitecture</th>\n",
       "      <th>Census_OSBranch</th>\n",
       "      <th>Census_OSEdition</th>\n",
       "      <th>Census_OSSkuName</th>\n",
       "      <th>Census_OSInstallTypeName</th>\n",
       "      <th>Census_OSWUAutoUpdateOptionsName</th>\n",
       "      <th>Census_GenuineStateName</th>\n",
       "      <th>Census_ActivationChannel</th>\n",
       "      <th>Census_FlightRing</th>\n",
       "    </tr>\n",
       "  </thead>\n",
       "  <tbody>\n",
       "    <tr>\n",
       "      <th>0</th>\n",
       "      <td>4.0</td>\n",
       "      <td>68.0</td>\n",
       "      <td>70.0</td>\n",
       "      <td>9261.0</td>\n",
       "      <td>0.0</td>\n",
       "      <td>1.0</td>\n",
       "      <td>0.0</td>\n",
       "      <td>2.0</td>\n",
       "      <td>4.0</td>\n",
       "      <td>8.0</td>\n",
       "      <td>...</td>\n",
       "      <td>255.0</td>\n",
       "      <td>0.0</td>\n",
       "      <td>3.0</td>\n",
       "      <td>4.0</td>\n",
       "      <td>2.0</td>\n",
       "      <td>5.0</td>\n",
       "      <td>0.0</td>\n",
       "      <td>1.0</td>\n",
       "      <td>0.0</td>\n",
       "      <td>7.0</td>\n",
       "    </tr>\n",
       "    <tr>\n",
       "      <th>1</th>\n",
       "      <td>4.0</td>\n",
       "      <td>67.0</td>\n",
       "      <td>64.0</td>\n",
       "      <td>9005.0</td>\n",
       "      <td>0.0</td>\n",
       "      <td>1.0</td>\n",
       "      <td>0.0</td>\n",
       "      <td>3.0</td>\n",
       "      <td>4.0</td>\n",
       "      <td>8.0</td>\n",
       "      <td>...</td>\n",
       "      <td>323.0</td>\n",
       "      <td>0.0</td>\n",
       "      <td>6.0</td>\n",
       "      <td>4.0</td>\n",
       "      <td>2.0</td>\n",
       "      <td>6.0</td>\n",
       "      <td>0.0</td>\n",
       "      <td>1.0</td>\n",
       "      <td>2.0</td>\n",
       "      <td>7.0</td>\n",
       "    </tr>\n",
       "    <tr>\n",
       "      <th>2</th>\n",
       "      <td>4.0</td>\n",
       "      <td>65.0</td>\n",
       "      <td>64.0</td>\n",
       "      <td>8501.0</td>\n",
       "      <td>0.0</td>\n",
       "      <td>1.0</td>\n",
       "      <td>0.0</td>\n",
       "      <td>1.0</td>\n",
       "      <td>4.0</td>\n",
       "      <td>8.0</td>\n",
       "      <td>...</td>\n",
       "      <td>174.0</td>\n",
       "      <td>0.0</td>\n",
       "      <td>0.0</td>\n",
       "      <td>7.0</td>\n",
       "      <td>5.0</td>\n",
       "      <td>3.0</td>\n",
       "      <td>5.0</td>\n",
       "      <td>1.0</td>\n",
       "      <td>0.0</td>\n",
       "      <td>7.0</td>\n",
       "    </tr>\n",
       "    <tr>\n",
       "      <th>3</th>\n",
       "      <td>4.0</td>\n",
       "      <td>68.0</td>\n",
       "      <td>70.0</td>\n",
       "      <td>9301.0</td>\n",
       "      <td>0.0</td>\n",
       "      <td>1.0</td>\n",
       "      <td>0.0</td>\n",
       "      <td>3.0</td>\n",
       "      <td>4.0</td>\n",
       "      <td>8.0</td>\n",
       "      <td>...</td>\n",
       "      <td>312.0</td>\n",
       "      <td>0.0</td>\n",
       "      <td>5.0</td>\n",
       "      <td>7.0</td>\n",
       "      <td>5.0</td>\n",
       "      <td>8.0</td>\n",
       "      <td>3.0</td>\n",
       "      <td>1.0</td>\n",
       "      <td>0.0</td>\n",
       "      <td>7.0</td>\n",
       "    </tr>\n",
       "    <tr>\n",
       "      <th>4</th>\n",
       "      <td>4.0</td>\n",
       "      <td>67.0</td>\n",
       "      <td>64.0</td>\n",
       "      <td>8989.0</td>\n",
       "      <td>0.0</td>\n",
       "      <td>1.0</td>\n",
       "      <td>0.0</td>\n",
       "      <td>3.0</td>\n",
       "      <td>4.0</td>\n",
       "      <td>8.0</td>\n",
       "      <td>...</td>\n",
       "      <td>312.0</td>\n",
       "      <td>0.0</td>\n",
       "      <td>5.0</td>\n",
       "      <td>7.0</td>\n",
       "      <td>5.0</td>\n",
       "      <td>7.0</td>\n",
       "      <td>5.0</td>\n",
       "      <td>1.0</td>\n",
       "      <td>2.0</td>\n",
       "      <td>7.0</td>\n",
       "    </tr>\n",
       "    <tr>\n",
       "      <th>...</th>\n",
       "      <td>...</td>\n",
       "      <td>...</td>\n",
       "      <td>...</td>\n",
       "      <td>...</td>\n",
       "      <td>...</td>\n",
       "      <td>...</td>\n",
       "      <td>...</td>\n",
       "      <td>...</td>\n",
       "      <td>...</td>\n",
       "      <td>...</td>\n",
       "      <td>...</td>\n",
       "      <td>...</td>\n",
       "      <td>...</td>\n",
       "      <td>...</td>\n",
       "      <td>...</td>\n",
       "      <td>...</td>\n",
       "      <td>...</td>\n",
       "      <td>...</td>\n",
       "      <td>...</td>\n",
       "      <td>...</td>\n",
       "      <td>...</td>\n",
       "    </tr>\n",
       "    <tr>\n",
       "      <th>7853248</th>\n",
       "      <td>4.0</td>\n",
       "      <td>68.0</td>\n",
       "      <td>70.0</td>\n",
       "      <td>9205.0</td>\n",
       "      <td>0.0</td>\n",
       "      <td>1.0</td>\n",
       "      <td>0.0</td>\n",
       "      <td>3.0</td>\n",
       "      <td>4.0</td>\n",
       "      <td>8.0</td>\n",
       "      <td>...</td>\n",
       "      <td>301.0</td>\n",
       "      <td>0.0</td>\n",
       "      <td>5.0</td>\n",
       "      <td>7.0</td>\n",
       "      <td>5.0</td>\n",
       "      <td>2.0</td>\n",
       "      <td>5.0</td>\n",
       "      <td>1.0</td>\n",
       "      <td>2.0</td>\n",
       "      <td>7.0</td>\n",
       "    </tr>\n",
       "    <tr>\n",
       "      <th>7853249</th>\n",
       "      <td>4.0</td>\n",
       "      <td>68.0</td>\n",
       "      <td>70.0</td>\n",
       "      <td>9226.0</td>\n",
       "      <td>0.0</td>\n",
       "      <td>1.0</td>\n",
       "      <td>0.0</td>\n",
       "      <td>4.0</td>\n",
       "      <td>6.0</td>\n",
       "      <td>8.0</td>\n",
       "      <td>...</td>\n",
       "      <td>370.0</td>\n",
       "      <td>0.0</td>\n",
       "      <td>8.0</td>\n",
       "      <td>20.0</td>\n",
       "      <td>17.0</td>\n",
       "      <td>2.0</td>\n",
       "      <td>2.0</td>\n",
       "      <td>1.0</td>\n",
       "      <td>4.0</td>\n",
       "      <td>7.0</td>\n",
       "    </tr>\n",
       "    <tr>\n",
       "      <th>7853250</th>\n",
       "      <td>4.0</td>\n",
       "      <td>68.0</td>\n",
       "      <td>70.0</td>\n",
       "      <td>9205.0</td>\n",
       "      <td>0.0</td>\n",
       "      <td>1.0</td>\n",
       "      <td>0.0</td>\n",
       "      <td>4.0</td>\n",
       "      <td>4.0</td>\n",
       "      <td>8.0</td>\n",
       "      <td>...</td>\n",
       "      <td>367.0</td>\n",
       "      <td>0.0</td>\n",
       "      <td>8.0</td>\n",
       "      <td>7.0</td>\n",
       "      <td>5.0</td>\n",
       "      <td>2.0</td>\n",
       "      <td>2.0</td>\n",
       "      <td>1.0</td>\n",
       "      <td>4.0</td>\n",
       "      <td>7.0</td>\n",
       "    </tr>\n",
       "    <tr>\n",
       "      <th>7853251</th>\n",
       "      <td>4.0</td>\n",
       "      <td>67.0</td>\n",
       "      <td>89.0</td>\n",
       "      <td>8881.0</td>\n",
       "      <td>0.0</td>\n",
       "      <td>2.0</td>\n",
       "      <td>0.0</td>\n",
       "      <td>5.0</td>\n",
       "      <td>6.0</td>\n",
       "      <td>8.0</td>\n",
       "      <td>...</td>\n",
       "      <td>39.0</td>\n",
       "      <td>2.0</td>\n",
       "      <td>20.0</td>\n",
       "      <td>20.0</td>\n",
       "      <td>17.0</td>\n",
       "      <td>2.0</td>\n",
       "      <td>5.0</td>\n",
       "      <td>0.0</td>\n",
       "      <td>4.0</td>\n",
       "      <td>4.0</td>\n",
       "    </tr>\n",
       "    <tr>\n",
       "      <th>7853252</th>\n",
       "      <td>4.0</td>\n",
       "      <td>68.0</td>\n",
       "      <td>70.0</td>\n",
       "      <td>9343.0</td>\n",
       "      <td>0.0</td>\n",
       "      <td>1.0</td>\n",
       "      <td>0.0</td>\n",
       "      <td>1.0</td>\n",
       "      <td>4.0</td>\n",
       "      <td>8.0</td>\n",
       "      <td>...</td>\n",
       "      <td>142.0</td>\n",
       "      <td>0.0</td>\n",
       "      <td>0.0</td>\n",
       "      <td>7.0</td>\n",
       "      <td>5.0</td>\n",
       "      <td>4.0</td>\n",
       "      <td>2.0</td>\n",
       "      <td>1.0</td>\n",
       "      <td>2.0</td>\n",
       "      <td>7.0</td>\n",
       "    </tr>\n",
       "  </tbody>\n",
       "</table>\n",
       "<p>7853253 rows × 21 columns</p>\n",
       "</div>"
      ],
      "text/plain": [
       "         ProductName  EngineVersion  AppVersion  AvSigVersion  Platform  \\\n",
       "0                4.0           68.0        70.0        9261.0       0.0   \n",
       "1                4.0           67.0        64.0        9005.0       0.0   \n",
       "2                4.0           65.0        64.0        8501.0       0.0   \n",
       "3                4.0           68.0        70.0        9301.0       0.0   \n",
       "4                4.0           67.0        64.0        8989.0       0.0   \n",
       "...              ...            ...         ...           ...       ...   \n",
       "7853248          4.0           68.0        70.0        9205.0       0.0   \n",
       "7853249          4.0           68.0        70.0        9226.0       0.0   \n",
       "7853250          4.0           68.0        70.0        9205.0       0.0   \n",
       "7853251          4.0           67.0        89.0        8881.0       0.0   \n",
       "7853252          4.0           68.0        70.0        9343.0       0.0   \n",
       "\n",
       "         Processor  OsVer  OsPlatformSubRelease  SkuEdition  \\\n",
       "0              1.0    0.0                   2.0         4.0   \n",
       "1              1.0    0.0                   3.0         4.0   \n",
       "2              1.0    0.0                   1.0         4.0   \n",
       "3              1.0    0.0                   3.0         4.0   \n",
       "4              1.0    0.0                   3.0         4.0   \n",
       "...            ...    ...                   ...         ...   \n",
       "7853248        1.0    0.0                   3.0         4.0   \n",
       "7853249        1.0    0.0                   4.0         6.0   \n",
       "7853250        1.0    0.0                   4.0         4.0   \n",
       "7853251        2.0    0.0                   5.0         6.0   \n",
       "7853252        1.0    0.0                   1.0         4.0   \n",
       "\n",
       "         Census_MDC2FormFactor  ...  Census_OSVersion  Census_OSArchitecture  \\\n",
       "0                          8.0  ...             255.0                    0.0   \n",
       "1                          8.0  ...             323.0                    0.0   \n",
       "2                          8.0  ...             174.0                    0.0   \n",
       "3                          8.0  ...             312.0                    0.0   \n",
       "4                          8.0  ...             312.0                    0.0   \n",
       "...                        ...  ...               ...                    ...   \n",
       "7853248                    8.0  ...             301.0                    0.0   \n",
       "7853249                    8.0  ...             370.0                    0.0   \n",
       "7853250                    8.0  ...             367.0                    0.0   \n",
       "7853251                    8.0  ...              39.0                    2.0   \n",
       "7853252                    8.0  ...             142.0                    0.0   \n",
       "\n",
       "         Census_OSBranch  Census_OSEdition  Census_OSSkuName  \\\n",
       "0                    3.0               4.0               2.0   \n",
       "1                    6.0               4.0               2.0   \n",
       "2                    0.0               7.0               5.0   \n",
       "3                    5.0               7.0               5.0   \n",
       "4                    5.0               7.0               5.0   \n",
       "...                  ...               ...               ...   \n",
       "7853248              5.0               7.0               5.0   \n",
       "7853249              8.0              20.0              17.0   \n",
       "7853250              8.0               7.0               5.0   \n",
       "7853251             20.0              20.0              17.0   \n",
       "7853252              0.0               7.0               5.0   \n",
       "\n",
       "         Census_OSInstallTypeName  Census_OSWUAutoUpdateOptionsName  \\\n",
       "0                             5.0                               0.0   \n",
       "1                             6.0                               0.0   \n",
       "2                             3.0                               5.0   \n",
       "3                             8.0                               3.0   \n",
       "4                             7.0                               5.0   \n",
       "...                           ...                               ...   \n",
       "7853248                       2.0                               5.0   \n",
       "7853249                       2.0                               2.0   \n",
       "7853250                       2.0                               2.0   \n",
       "7853251                       2.0                               5.0   \n",
       "7853252                       4.0                               2.0   \n",
       "\n",
       "         Census_GenuineStateName  Census_ActivationChannel  Census_FlightRing  \n",
       "0                            1.0                       0.0                7.0  \n",
       "1                            1.0                       2.0                7.0  \n",
       "2                            1.0                       0.0                7.0  \n",
       "3                            1.0                       0.0                7.0  \n",
       "4                            1.0                       2.0                7.0  \n",
       "...                          ...                       ...                ...  \n",
       "7853248                      1.0                       2.0                7.0  \n",
       "7853249                      1.0                       4.0                7.0  \n",
       "7853250                      1.0                       4.0                7.0  \n",
       "7853251                      0.0                       4.0                4.0  \n",
       "7853252                      1.0                       2.0                7.0  \n",
       "\n",
       "[7853253 rows x 21 columns]"
      ]
     },
     "execution_count": 44,
     "metadata": {},
     "output_type": "execute_result"
    }
   ],
   "source": [
    "encoder = OrdinalEncoder() #faça a troca das categorias por números\n",
    "\n",
    "df_test[object_cols] = encoder.fit_transform(df_test[object_cols]) #ltere somente as colunas categóricas do meu dataset\n",
    "df_test"
   ]
  },
  {
   "cell_type": "markdown",
   "id": "451ea4d7",
   "metadata": {
    "papermill": {
     "duration": 0.075967,
     "end_time": "2022-05-16T19:17:03.015324",
     "exception": false,
     "start_time": "2022-05-16T19:17:02.939357",
     "status": "completed"
    },
    "tags": []
   },
   "source": [
    "SUBMISSÃO LightGBM.\n",
    "\n",
    "Pontuação: 49,6"
   ]
  },
  {
   "cell_type": "markdown",
   "id": "2470ba8e",
   "metadata": {
    "papermill": {
     "duration": 0.076863,
     "end_time": "2022-05-16T19:17:03.171651",
     "exception": false,
     "start_time": "2022-05-16T19:17:03.094788",
     "status": "completed"
    },
    "tags": []
   },
   "source": [
    "SUBMISSÃO Extreme Gradient Boosting\n",
    "\n",
    "Pontuação: 49.18"
   ]
  },
  {
   "cell_type": "code",
   "execution_count": 45,
   "id": "50b02932",
   "metadata": {
    "execution": {
     "iopub.execute_input": "2022-05-16T19:17:03.325640Z",
     "iopub.status.busy": "2022-05-16T19:17:03.325311Z",
     "iopub.status.idle": "2022-05-16T19:17:15.391118Z",
     "shell.execute_reply": "2022-05-16T19:17:15.390312Z"
    },
    "papermill": {
     "duration": 12.145191,
     "end_time": "2022-05-16T19:17:15.393205",
     "exception": false,
     "start_time": "2022-05-16T19:17:03.248014",
     "status": "completed"
    },
    "tags": []
   },
   "outputs": [
    {
     "data": {
      "text/plain": [
       "array([0., 0., 0., ..., 0., 0., 0.], dtype=float16)"
      ]
     },
     "execution_count": 45,
     "metadata": {},
     "output_type": "execute_result"
    }
   ],
   "source": [
    "predicao_test = lgb_dart.predict(df_test)\n",
    "predicao_test"
   ]
  },
  {
   "cell_type": "code",
   "execution_count": 46,
   "id": "40952cfa",
   "metadata": {
    "execution": {
     "iopub.execute_input": "2022-05-16T19:17:15.547668Z",
     "iopub.status.busy": "2022-05-16T19:17:15.547347Z",
     "iopub.status.idle": "2022-05-16T19:17:28.373322Z",
     "shell.execute_reply": "2022-05-16T19:17:28.372363Z"
    },
    "papermill": {
     "duration": 12.90583,
     "end_time": "2022-05-16T19:17:28.375807",
     "exception": false,
     "start_time": "2022-05-16T19:17:15.469977",
     "status": "completed"
    },
    "tags": []
   },
   "outputs": [
    {
     "data": {
      "text/plain": [
       "array([[0.92092684, 0.07907316],\n",
       "       [0.92697756, 0.07302244],\n",
       "       [0.92023063, 0.07976937],\n",
       "       ...,\n",
       "       [0.92633037, 0.07366963],\n",
       "       [0.86406575, 0.13593425],\n",
       "       [0.92633037, 0.07366963]])"
      ]
     },
     "execution_count": 46,
     "metadata": {},
     "output_type": "execute_result"
    }
   ],
   "source": [
    "predictions_probas = lgb_dart.predict_proba(df_test)\n",
    "predictions_probas"
   ]
  },
  {
   "cell_type": "markdown",
   "id": "78d1cade",
   "metadata": {
    "papermill": {
     "duration": 0.078015,
     "end_time": "2022-05-16T19:17:28.530988",
     "exception": false,
     "start_time": "2022-05-16T19:17:28.452973",
     "status": "completed"
    },
    "tags": []
   },
   "source": [
    "CSV SUBMISSAO"
   ]
  },
  {
   "cell_type": "code",
   "execution_count": 47,
   "id": "2a96007c",
   "metadata": {
    "execution": {
     "iopub.execute_input": "2022-05-16T19:17:28.688472Z",
     "iopub.status.busy": "2022-05-16T19:17:28.687858Z",
     "iopub.status.idle": "2022-05-16T19:17:28.693050Z",
     "shell.execute_reply": "2022-05-16T19:17:28.692474Z"
    },
    "papermill": {
     "duration": 0.086253,
     "end_time": "2022-05-16T19:17:28.695015",
     "exception": false,
     "start_time": "2022-05-16T19:17:28.608762",
     "status": "completed"
    },
    "tags": []
   },
   "outputs": [],
   "source": [
    "pred_final = pd.DataFrame(predictions_probas)[1]"
   ]
  },
  {
   "cell_type": "code",
   "execution_count": 48,
   "id": "3e226e20",
   "metadata": {
    "execution": {
     "iopub.execute_input": "2022-05-16T19:17:28.849565Z",
     "iopub.status.busy": "2022-05-16T19:17:28.849036Z",
     "iopub.status.idle": "2022-05-16T19:17:28.852824Z",
     "shell.execute_reply": "2022-05-16T19:17:28.852257Z"
    },
    "papermill": {
     "duration": 0.083225,
     "end_time": "2022-05-16T19:17:28.854742",
     "exception": false,
     "start_time": "2022-05-16T19:17:28.771517",
     "status": "completed"
    },
    "tags": []
   },
   "outputs": [],
   "source": [
    "#subm_df = pd.read_csv('../input/microsoft-malware-prediction/sample_submission.csv', index_col='MachineIdentifier')\n",
    "#subm_df['HasDetections'] = predictions_probas\n",
    "\n",
    "#subm_df.head()"
   ]
  },
  {
   "cell_type": "code",
   "execution_count": 49,
   "id": "928685be",
   "metadata": {
    "execution": {
     "iopub.execute_input": "2022-05-16T19:17:29.010025Z",
     "iopub.status.busy": "2022-05-16T19:17:29.009436Z",
     "iopub.status.idle": "2022-05-16T19:17:29.047854Z",
     "shell.execute_reply": "2022-05-16T19:17:29.047017Z"
    },
    "papermill": {
     "duration": 0.119132,
     "end_time": "2022-05-16T19:17:29.049936",
     "exception": false,
     "start_time": "2022-05-16T19:17:28.930804",
     "status": "completed"
    },
    "tags": []
   },
   "outputs": [
    {
     "data": {
      "text/html": [
       "<div>\n",
       "<style scoped>\n",
       "    .dataframe tbody tr th:only-of-type {\n",
       "        vertical-align: middle;\n",
       "    }\n",
       "\n",
       "    .dataframe tbody tr th {\n",
       "        vertical-align: top;\n",
       "    }\n",
       "\n",
       "    .dataframe thead th {\n",
       "        text-align: right;\n",
       "    }\n",
       "</style>\n",
       "<table border=\"1\" class=\"dataframe\">\n",
       "  <thead>\n",
       "    <tr style=\"text-align: right;\">\n",
       "      <th></th>\n",
       "      <th>MachineIdentifier</th>\n",
       "      <th>HasDetections</th>\n",
       "    </tr>\n",
       "  </thead>\n",
       "  <tbody>\n",
       "    <tr>\n",
       "      <th>0</th>\n",
       "      <td>0000010489e3af074adeac69c53e555e</td>\n",
       "      <td>0.079073</td>\n",
       "    </tr>\n",
       "    <tr>\n",
       "      <th>1</th>\n",
       "      <td>00000176ac758d54827acd545b6315a5</td>\n",
       "      <td>0.073022</td>\n",
       "    </tr>\n",
       "    <tr>\n",
       "      <th>2</th>\n",
       "      <td>0000019dcefc128c2d4387c1273dae1d</td>\n",
       "      <td>0.079769</td>\n",
       "    </tr>\n",
       "    <tr>\n",
       "      <th>3</th>\n",
       "      <td>0000055553dc51b1295785415f1a224d</td>\n",
       "      <td>0.079769</td>\n",
       "    </tr>\n",
       "    <tr>\n",
       "      <th>4</th>\n",
       "      <td>00000574cefffeca83ec8adf9285b2bf</td>\n",
       "      <td>0.073670</td>\n",
       "    </tr>\n",
       "    <tr>\n",
       "      <th>5</th>\n",
       "      <td>000007ffedd31948f08e6c16da31f6d1</td>\n",
       "      <td>0.073670</td>\n",
       "    </tr>\n",
       "    <tr>\n",
       "      <th>6</th>\n",
       "      <td>000008f31610018d898e5f315cdf1bd1</td>\n",
       "      <td>0.079769</td>\n",
       "    </tr>\n",
       "    <tr>\n",
       "      <th>7</th>\n",
       "      <td>00000a3c447250626dbcc628c9cbc460</td>\n",
       "      <td>0.073670</td>\n",
       "    </tr>\n",
       "    <tr>\n",
       "      <th>8</th>\n",
       "      <td>00000b6bf217ec9aef0f68d5c6705897</td>\n",
       "      <td>0.092801</td>\n",
       "    </tr>\n",
       "    <tr>\n",
       "      <th>9</th>\n",
       "      <td>00000b8d3776b13e93ad83676a28e4aa</td>\n",
       "      <td>0.073670</td>\n",
       "    </tr>\n",
       "  </tbody>\n",
       "</table>\n",
       "</div>"
      ],
      "text/plain": [
       "                  MachineIdentifier  HasDetections\n",
       "0  0000010489e3af074adeac69c53e555e       0.079073\n",
       "1  00000176ac758d54827acd545b6315a5       0.073022\n",
       "2  0000019dcefc128c2d4387c1273dae1d       0.079769\n",
       "3  0000055553dc51b1295785415f1a224d       0.079769\n",
       "4  00000574cefffeca83ec8adf9285b2bf       0.073670\n",
       "5  000007ffedd31948f08e6c16da31f6d1       0.073670\n",
       "6  000008f31610018d898e5f315cdf1bd1       0.079769\n",
       "7  00000a3c447250626dbcc628c9cbc460       0.073670\n",
       "8  00000b6bf217ec9aef0f68d5c6705897       0.092801\n",
       "9  00000b8d3776b13e93ad83676a28e4aa       0.073670"
      ]
     },
     "execution_count": 49,
     "metadata": {},
     "output_type": "execute_result"
    }
   ],
   "source": [
    "sub_df[\"HasDetections\"] = pred_final\n",
    "sub_df[:10]"
   ]
  },
  {
   "cell_type": "code",
   "execution_count": 50,
   "id": "afc28208",
   "metadata": {
    "execution": {
     "iopub.execute_input": "2022-05-16T19:17:29.208303Z",
     "iopub.status.busy": "2022-05-16T19:17:29.207656Z",
     "iopub.status.idle": "2022-05-16T19:18:56.454667Z",
     "shell.execute_reply": "2022-05-16T19:18:56.453499Z"
    },
    "papermill": {
     "duration": 87.330303,
     "end_time": "2022-05-16T19:18:56.457375",
     "exception": false,
     "start_time": "2022-05-16T19:17:29.127072",
     "status": "completed"
    },
    "tags": []
   },
   "outputs": [],
   "source": [
    "sub_df.to_csv('/kaggle/working/submission.csv', index=False)"
   ]
  }
 ],
 "metadata": {
  "kernelspec": {
   "display_name": "Python 3",
   "language": "python",
   "name": "python3"
  },
  "language_info": {
   "codemirror_mode": {
    "name": "ipython",
    "version": 3
   },
   "file_extension": ".py",
   "mimetype": "text/x-python",
   "name": "python",
   "nbconvert_exporter": "python",
   "pygments_lexer": "ipython3",
   "version": "3.7.12"
  },
  "papermill": {
   "default_parameters": {},
   "duration": 731.772613,
   "end_time": "2022-05-16T19:18:58.866737",
   "environment_variables": {},
   "exception": null,
   "input_path": "__notebook__.ipynb",
   "output_path": "__notebook__.ipynb",
   "parameters": {},
   "start_time": "2022-05-16T19:06:47.094124",
   "version": "2.3.4"
  }
 },
 "nbformat": 4,
 "nbformat_minor": 5
}
